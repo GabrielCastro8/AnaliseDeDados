{
  "nbformat": 4,
  "nbformat_minor": 0,
  "metadata": {
    "colab": {
      "provenance": [],
      "authorship_tag": "ABX9TyMeSdfyhDHl6l3oH8jGvyWR",
      "include_colab_link": true
    },
    "kernelspec": {
      "name": "python3",
      "display_name": "Python 3"
    },
    "language_info": {
      "name": "python"
    }
  },
  "cells": [
    {
      "cell_type": "markdown",
      "metadata": {
        "id": "view-in-github",
        "colab_type": "text"
      },
      "source": [
        "<a href=\"https://colab.research.google.com/github/GabrielCastro8/AnaliseDeDados/blob/main/AnaliseA3Analise.ipynb\" target=\"_parent\"><img src=\"https://colab.research.google.com/assets/colab-badge.svg\" alt=\"Open In Colab\"/></a>"
      ]
    },
    {
      "cell_type": "markdown",
      "source": [
        "##Analise dos dados"
      ],
      "metadata": {
        "id": "cvUKNt3u78tT"
      }
    },
    {
      "cell_type": "markdown",
      "source": [
        "\n",
        "Gabriel Antonio Lopes de Castro - 1272023100<br>\n"
      ],
      "metadata": {
        "id": "o5edp8jNxvKb"
      }
    },
    {
      "cell_type": "markdown",
      "source": [
        "##Configuracoes e importacoes"
      ],
      "metadata": {
        "id": "QGjHZkbW8DI9"
      }
    },
    {
      "cell_type": "code",
      "execution_count": null,
      "metadata": {
        "id": "hwAz1Fiy6ReN"
      },
      "outputs": [],
      "source": [
        "# Python ≥3.5 é obrigatório\n",
        "import sys\n",
        "assert sys.version_info >= (3, 5)\n",
        "# Scikit-Learn ≥0.20 é obrigatório\n",
        "import sklearn\n",
        "assert sklearn.__version__ >= \"0.20\"\n",
        "# Importações comuns\n",
        "import numpy as np\n",
        "import os\n",
        "# Commented out IPython magic to ensure Python compatibility."
      ]
    },
    {
      "cell_type": "code",
      "source": [
        "# Para traçar figuras bonitas\n",
        "# %matplotlib inline\n",
        "import matplotlib as mpl\n",
        "import matplotlib.pyplot as plt\n",
        "mpl.rc('axes', labelsize=14)\n",
        "mpl.rc('xtick', labelsize=12)\n",
        "mpl.rc('ytick', labelsize=12)\n",
        "import pandas as pd\n",
        "import seaborn as sns"
      ],
      "metadata": {
        "id": "iYpd7aLr8Hmy"
      },
      "execution_count": null,
      "outputs": []
    },
    {
      "cell_type": "code",
      "source": [
        "data = pd.read_csv(\"Dados_A3_Analise.csv\")"
      ],
      "metadata": {
        "id": "ouhbFotw8MwS"
      },
      "execution_count": null,
      "outputs": []
    },
    {
      "cell_type": "markdown",
      "source": [
        "Exibindo as 5 primeiras linhas do dataframe"
      ],
      "metadata": {
        "id": "5hghJ2Us8gle"
      }
    },
    {
      "cell_type": "code",
      "source": [
        "data.head()"
      ],
      "metadata": {
        "colab": {
          "base_uri": "https://localhost:8080/",
          "height": 250
        },
        "id": "iQyLJcpb8jLg",
        "outputId": "c2e95b0f-a5c2-4dfb-8808-0e83e73ec00c"
      },
      "execution_count": null,
      "outputs": [
        {
          "output_type": "execute_result",
          "data": {
            "text/plain": [
              "                    name     sex  height  weight       sport  gold  silver  \\\n",
              "0         A Jesus Garcia    male    1.72    64.0   athletics     0       0   \n",
              "1    Aauri Lorena Bokesa  female    1.80    62.0   athletics     0       0   \n",
              "2    Abdelaziz Merzougui    male    1.75    67.0   athletics     0       0   \n",
              "3           Adel Mechaal    male    1.82    71.0   athletics     0       0   \n",
              "4  Adrian Gavira Collado    male    1.93    89.0  volleyball     0       0   \n",
              "\n",
              "   bronze country  population  gdp_per_capita  gold_2012  silver_2012  \\\n",
              "0       0   Spain  46418269.0    25831.582305          4           10   \n",
              "1       0   Spain  46418269.0    25831.582305          4           10   \n",
              "2       0   Spain  46418269.0    25831.582305          4           10   \n",
              "3       0   Spain  46418269.0    25831.582305          4           10   \n",
              "4       0   Spain  46418269.0    25831.582305          4           10   \n",
              "\n",
              "   bronze_2012  total_2012  \n",
              "0            5          19  \n",
              "1            5          19  \n",
              "2            5          19  \n",
              "3            5          19  \n",
              "4            5          19  "
            ],
            "text/html": [
              "\n",
              "  <div id=\"df-9bdaa806-e756-4a27-92d2-2af2c9ca7a99\">\n",
              "    <div class=\"colab-df-container\">\n",
              "      <div>\n",
              "<style scoped>\n",
              "    .dataframe tbody tr th:only-of-type {\n",
              "        vertical-align: middle;\n",
              "    }\n",
              "\n",
              "    .dataframe tbody tr th {\n",
              "        vertical-align: top;\n",
              "    }\n",
              "\n",
              "    .dataframe thead th {\n",
              "        text-align: right;\n",
              "    }\n",
              "</style>\n",
              "<table border=\"1\" class=\"dataframe\">\n",
              "  <thead>\n",
              "    <tr style=\"text-align: right;\">\n",
              "      <th></th>\n",
              "      <th>name</th>\n",
              "      <th>sex</th>\n",
              "      <th>height</th>\n",
              "      <th>weight</th>\n",
              "      <th>sport</th>\n",
              "      <th>gold</th>\n",
              "      <th>silver</th>\n",
              "      <th>bronze</th>\n",
              "      <th>country</th>\n",
              "      <th>population</th>\n",
              "      <th>gdp_per_capita</th>\n",
              "      <th>gold_2012</th>\n",
              "      <th>silver_2012</th>\n",
              "      <th>bronze_2012</th>\n",
              "      <th>total_2012</th>\n",
              "    </tr>\n",
              "  </thead>\n",
              "  <tbody>\n",
              "    <tr>\n",
              "      <th>0</th>\n",
              "      <td>A Jesus Garcia</td>\n",
              "      <td>male</td>\n",
              "      <td>1.72</td>\n",
              "      <td>64.0</td>\n",
              "      <td>athletics</td>\n",
              "      <td>0</td>\n",
              "      <td>0</td>\n",
              "      <td>0</td>\n",
              "      <td>Spain</td>\n",
              "      <td>46418269.0</td>\n",
              "      <td>25831.582305</td>\n",
              "      <td>4</td>\n",
              "      <td>10</td>\n",
              "      <td>5</td>\n",
              "      <td>19</td>\n",
              "    </tr>\n",
              "    <tr>\n",
              "      <th>1</th>\n",
              "      <td>Aauri Lorena Bokesa</td>\n",
              "      <td>female</td>\n",
              "      <td>1.80</td>\n",
              "      <td>62.0</td>\n",
              "      <td>athletics</td>\n",
              "      <td>0</td>\n",
              "      <td>0</td>\n",
              "      <td>0</td>\n",
              "      <td>Spain</td>\n",
              "      <td>46418269.0</td>\n",
              "      <td>25831.582305</td>\n",
              "      <td>4</td>\n",
              "      <td>10</td>\n",
              "      <td>5</td>\n",
              "      <td>19</td>\n",
              "    </tr>\n",
              "    <tr>\n",
              "      <th>2</th>\n",
              "      <td>Abdelaziz Merzougui</td>\n",
              "      <td>male</td>\n",
              "      <td>1.75</td>\n",
              "      <td>67.0</td>\n",
              "      <td>athletics</td>\n",
              "      <td>0</td>\n",
              "      <td>0</td>\n",
              "      <td>0</td>\n",
              "      <td>Spain</td>\n",
              "      <td>46418269.0</td>\n",
              "      <td>25831.582305</td>\n",
              "      <td>4</td>\n",
              "      <td>10</td>\n",
              "      <td>5</td>\n",
              "      <td>19</td>\n",
              "    </tr>\n",
              "    <tr>\n",
              "      <th>3</th>\n",
              "      <td>Adel Mechaal</td>\n",
              "      <td>male</td>\n",
              "      <td>1.82</td>\n",
              "      <td>71.0</td>\n",
              "      <td>athletics</td>\n",
              "      <td>0</td>\n",
              "      <td>0</td>\n",
              "      <td>0</td>\n",
              "      <td>Spain</td>\n",
              "      <td>46418269.0</td>\n",
              "      <td>25831.582305</td>\n",
              "      <td>4</td>\n",
              "      <td>10</td>\n",
              "      <td>5</td>\n",
              "      <td>19</td>\n",
              "    </tr>\n",
              "    <tr>\n",
              "      <th>4</th>\n",
              "      <td>Adrian Gavira Collado</td>\n",
              "      <td>male</td>\n",
              "      <td>1.93</td>\n",
              "      <td>89.0</td>\n",
              "      <td>volleyball</td>\n",
              "      <td>0</td>\n",
              "      <td>0</td>\n",
              "      <td>0</td>\n",
              "      <td>Spain</td>\n",
              "      <td>46418269.0</td>\n",
              "      <td>25831.582305</td>\n",
              "      <td>4</td>\n",
              "      <td>10</td>\n",
              "      <td>5</td>\n",
              "      <td>19</td>\n",
              "    </tr>\n",
              "  </tbody>\n",
              "</table>\n",
              "</div>\n",
              "      <button class=\"colab-df-convert\" onclick=\"convertToInteractive('df-9bdaa806-e756-4a27-92d2-2af2c9ca7a99')\"\n",
              "              title=\"Convert this dataframe to an interactive table.\"\n",
              "              style=\"display:none;\">\n",
              "        \n",
              "  <svg xmlns=\"http://www.w3.org/2000/svg\" height=\"24px\"viewBox=\"0 0 24 24\"\n",
              "       width=\"24px\">\n",
              "    <path d=\"M0 0h24v24H0V0z\" fill=\"none\"/>\n",
              "    <path d=\"M18.56 5.44l.94 2.06.94-2.06 2.06-.94-2.06-.94-.94-2.06-.94 2.06-2.06.94zm-11 1L8.5 8.5l.94-2.06 2.06-.94-2.06-.94L8.5 2.5l-.94 2.06-2.06.94zm10 10l.94 2.06.94-2.06 2.06-.94-2.06-.94-.94-2.06-.94 2.06-2.06.94z\"/><path d=\"M17.41 7.96l-1.37-1.37c-.4-.4-.92-.59-1.43-.59-.52 0-1.04.2-1.43.59L10.3 9.45l-7.72 7.72c-.78.78-.78 2.05 0 2.83L4 21.41c.39.39.9.59 1.41.59.51 0 1.02-.2 1.41-.59l7.78-7.78 2.81-2.81c.8-.78.8-2.07 0-2.86zM5.41 20L4 18.59l7.72-7.72 1.47 1.35L5.41 20z\"/>\n",
              "  </svg>\n",
              "      </button>\n",
              "      \n",
              "  <style>\n",
              "    .colab-df-container {\n",
              "      display:flex;\n",
              "      flex-wrap:wrap;\n",
              "      gap: 12px;\n",
              "    }\n",
              "\n",
              "    .colab-df-convert {\n",
              "      background-color: #E8F0FE;\n",
              "      border: none;\n",
              "      border-radius: 50%;\n",
              "      cursor: pointer;\n",
              "      display: none;\n",
              "      fill: #1967D2;\n",
              "      height: 32px;\n",
              "      padding: 0 0 0 0;\n",
              "      width: 32px;\n",
              "    }\n",
              "\n",
              "    .colab-df-convert:hover {\n",
              "      background-color: #E2EBFA;\n",
              "      box-shadow: 0px 1px 2px rgba(60, 64, 67, 0.3), 0px 1px 3px 1px rgba(60, 64, 67, 0.15);\n",
              "      fill: #174EA6;\n",
              "    }\n",
              "\n",
              "    [theme=dark] .colab-df-convert {\n",
              "      background-color: #3B4455;\n",
              "      fill: #D2E3FC;\n",
              "    }\n",
              "\n",
              "    [theme=dark] .colab-df-convert:hover {\n",
              "      background-color: #434B5C;\n",
              "      box-shadow: 0px 1px 3px 1px rgba(0, 0, 0, 0.15);\n",
              "      filter: drop-shadow(0px 1px 2px rgba(0, 0, 0, 0.3));\n",
              "      fill: #FFFFFF;\n",
              "    }\n",
              "  </style>\n",
              "\n",
              "      <script>\n",
              "        const buttonEl =\n",
              "          document.querySelector('#df-9bdaa806-e756-4a27-92d2-2af2c9ca7a99 button.colab-df-convert');\n",
              "        buttonEl.style.display =\n",
              "          google.colab.kernel.accessAllowed ? 'block' : 'none';\n",
              "\n",
              "        async function convertToInteractive(key) {\n",
              "          const element = document.querySelector('#df-9bdaa806-e756-4a27-92d2-2af2c9ca7a99');\n",
              "          const dataTable =\n",
              "            await google.colab.kernel.invokeFunction('convertToInteractive',\n",
              "                                                     [key], {});\n",
              "          if (!dataTable) return;\n",
              "\n",
              "          const docLinkHtml = 'Like what you see? Visit the ' +\n",
              "            '<a target=\"_blank\" href=https://colab.research.google.com/notebooks/data_table.ipynb>data table notebook</a>'\n",
              "            + ' to learn more about interactive tables.';\n",
              "          element.innerHTML = '';\n",
              "          dataTable['output_type'] = 'display_data';\n",
              "          await google.colab.output.renderOutput(dataTable, element);\n",
              "          const docLink = document.createElement('div');\n",
              "          docLink.innerHTML = docLinkHtml;\n",
              "          element.appendChild(docLink);\n",
              "        }\n",
              "      </script>\n",
              "    </div>\n",
              "  </div>\n",
              "  "
            ]
          },
          "metadata": {},
          "execution_count": 180
        }
      ]
    },
    {
      "cell_type": "markdown",
      "source": [
        "Exibindo as 5 ultimas linhas do dataframe"
      ],
      "metadata": {
        "id": "IqzWz-Wf8lGv"
      }
    },
    {
      "cell_type": "code",
      "source": [
        "data.tail()"
      ],
      "metadata": {
        "colab": {
          "base_uri": "https://localhost:8080/",
          "height": 320
        },
        "id": "bv2wFmeZ8nXY",
        "outputId": "d6f8fb8c-4d1c-479a-9e53-7af1ac5d50e5"
      },
      "execution_count": null,
      "outputs": [
        {
          "output_type": "execute_result",
          "data": {
            "text/plain": [
              "                     name     sex  height  weight          sport  gold  \\\n",
              "9824     Tien Minh Nguyen    male    1.68    60.0      badminton     0   \n",
              "9825  Vien Nguyen Thi Anh  female    1.72    60.0       aquatics     0   \n",
              "9826      Xuan Vinh Hoang    male    1.75    75.0       shooting     1   \n",
              "9827    le Quoc Toan Tran    male    1.60    56.0  weightlifting     0   \n",
              "9828           Kurt Felix    male    1.82    76.0      athletics     0   \n",
              "\n",
              "      silver  bronze  country  population  gdp_per_capita  gold_2012  \\\n",
              "9824       0       0  Vietnam  91703800.0     2111.138024          1   \n",
              "9825       0       0  Vietnam  91703800.0     2111.138024          1   \n",
              "9826       1       0  Vietnam  91703800.0     2111.138024          1   \n",
              "9827       0       0  Vietnam  91703800.0     2111.138024          1   \n",
              "9828       0       0  Grenada    106825.0     9212.020352          1   \n",
              "\n",
              "      silver_2012  bronze_2012  total_2012  \n",
              "9824            1            0           2  \n",
              "9825            1            0           2  \n",
              "9826            1            0           2  \n",
              "9827            1            0           2  \n",
              "9828            0            0           1  "
            ],
            "text/html": [
              "\n",
              "  <div id=\"df-7d519084-da58-4ad1-99b3-99db5fca6656\">\n",
              "    <div class=\"colab-df-container\">\n",
              "      <div>\n",
              "<style scoped>\n",
              "    .dataframe tbody tr th:only-of-type {\n",
              "        vertical-align: middle;\n",
              "    }\n",
              "\n",
              "    .dataframe tbody tr th {\n",
              "        vertical-align: top;\n",
              "    }\n",
              "\n",
              "    .dataframe thead th {\n",
              "        text-align: right;\n",
              "    }\n",
              "</style>\n",
              "<table border=\"1\" class=\"dataframe\">\n",
              "  <thead>\n",
              "    <tr style=\"text-align: right;\">\n",
              "      <th></th>\n",
              "      <th>name</th>\n",
              "      <th>sex</th>\n",
              "      <th>height</th>\n",
              "      <th>weight</th>\n",
              "      <th>sport</th>\n",
              "      <th>gold</th>\n",
              "      <th>silver</th>\n",
              "      <th>bronze</th>\n",
              "      <th>country</th>\n",
              "      <th>population</th>\n",
              "      <th>gdp_per_capita</th>\n",
              "      <th>gold_2012</th>\n",
              "      <th>silver_2012</th>\n",
              "      <th>bronze_2012</th>\n",
              "      <th>total_2012</th>\n",
              "    </tr>\n",
              "  </thead>\n",
              "  <tbody>\n",
              "    <tr>\n",
              "      <th>9824</th>\n",
              "      <td>Tien Minh Nguyen</td>\n",
              "      <td>male</td>\n",
              "      <td>1.68</td>\n",
              "      <td>60.0</td>\n",
              "      <td>badminton</td>\n",
              "      <td>0</td>\n",
              "      <td>0</td>\n",
              "      <td>0</td>\n",
              "      <td>Vietnam</td>\n",
              "      <td>91703800.0</td>\n",
              "      <td>2111.138024</td>\n",
              "      <td>1</td>\n",
              "      <td>1</td>\n",
              "      <td>0</td>\n",
              "      <td>2</td>\n",
              "    </tr>\n",
              "    <tr>\n",
              "      <th>9825</th>\n",
              "      <td>Vien Nguyen Thi Anh</td>\n",
              "      <td>female</td>\n",
              "      <td>1.72</td>\n",
              "      <td>60.0</td>\n",
              "      <td>aquatics</td>\n",
              "      <td>0</td>\n",
              "      <td>0</td>\n",
              "      <td>0</td>\n",
              "      <td>Vietnam</td>\n",
              "      <td>91703800.0</td>\n",
              "      <td>2111.138024</td>\n",
              "      <td>1</td>\n",
              "      <td>1</td>\n",
              "      <td>0</td>\n",
              "      <td>2</td>\n",
              "    </tr>\n",
              "    <tr>\n",
              "      <th>9826</th>\n",
              "      <td>Xuan Vinh Hoang</td>\n",
              "      <td>male</td>\n",
              "      <td>1.75</td>\n",
              "      <td>75.0</td>\n",
              "      <td>shooting</td>\n",
              "      <td>1</td>\n",
              "      <td>1</td>\n",
              "      <td>0</td>\n",
              "      <td>Vietnam</td>\n",
              "      <td>91703800.0</td>\n",
              "      <td>2111.138024</td>\n",
              "      <td>1</td>\n",
              "      <td>1</td>\n",
              "      <td>0</td>\n",
              "      <td>2</td>\n",
              "    </tr>\n",
              "    <tr>\n",
              "      <th>9827</th>\n",
              "      <td>le Quoc Toan Tran</td>\n",
              "      <td>male</td>\n",
              "      <td>1.60</td>\n",
              "      <td>56.0</td>\n",
              "      <td>weightlifting</td>\n",
              "      <td>0</td>\n",
              "      <td>0</td>\n",
              "      <td>0</td>\n",
              "      <td>Vietnam</td>\n",
              "      <td>91703800.0</td>\n",
              "      <td>2111.138024</td>\n",
              "      <td>1</td>\n",
              "      <td>1</td>\n",
              "      <td>0</td>\n",
              "      <td>2</td>\n",
              "    </tr>\n",
              "    <tr>\n",
              "      <th>9828</th>\n",
              "      <td>Kurt Felix</td>\n",
              "      <td>male</td>\n",
              "      <td>1.82</td>\n",
              "      <td>76.0</td>\n",
              "      <td>athletics</td>\n",
              "      <td>0</td>\n",
              "      <td>0</td>\n",
              "      <td>0</td>\n",
              "      <td>Grenada</td>\n",
              "      <td>106825.0</td>\n",
              "      <td>9212.020352</td>\n",
              "      <td>1</td>\n",
              "      <td>0</td>\n",
              "      <td>0</td>\n",
              "      <td>1</td>\n",
              "    </tr>\n",
              "  </tbody>\n",
              "</table>\n",
              "</div>\n",
              "      <button class=\"colab-df-convert\" onclick=\"convertToInteractive('df-7d519084-da58-4ad1-99b3-99db5fca6656')\"\n",
              "              title=\"Convert this dataframe to an interactive table.\"\n",
              "              style=\"display:none;\">\n",
              "        \n",
              "  <svg xmlns=\"http://www.w3.org/2000/svg\" height=\"24px\"viewBox=\"0 0 24 24\"\n",
              "       width=\"24px\">\n",
              "    <path d=\"M0 0h24v24H0V0z\" fill=\"none\"/>\n",
              "    <path d=\"M18.56 5.44l.94 2.06.94-2.06 2.06-.94-2.06-.94-.94-2.06-.94 2.06-2.06.94zm-11 1L8.5 8.5l.94-2.06 2.06-.94-2.06-.94L8.5 2.5l-.94 2.06-2.06.94zm10 10l.94 2.06.94-2.06 2.06-.94-2.06-.94-.94-2.06-.94 2.06-2.06.94z\"/><path d=\"M17.41 7.96l-1.37-1.37c-.4-.4-.92-.59-1.43-.59-.52 0-1.04.2-1.43.59L10.3 9.45l-7.72 7.72c-.78.78-.78 2.05 0 2.83L4 21.41c.39.39.9.59 1.41.59.51 0 1.02-.2 1.41-.59l7.78-7.78 2.81-2.81c.8-.78.8-2.07 0-2.86zM5.41 20L4 18.59l7.72-7.72 1.47 1.35L5.41 20z\"/>\n",
              "  </svg>\n",
              "      </button>\n",
              "      \n",
              "  <style>\n",
              "    .colab-df-container {\n",
              "      display:flex;\n",
              "      flex-wrap:wrap;\n",
              "      gap: 12px;\n",
              "    }\n",
              "\n",
              "    .colab-df-convert {\n",
              "      background-color: #E8F0FE;\n",
              "      border: none;\n",
              "      border-radius: 50%;\n",
              "      cursor: pointer;\n",
              "      display: none;\n",
              "      fill: #1967D2;\n",
              "      height: 32px;\n",
              "      padding: 0 0 0 0;\n",
              "      width: 32px;\n",
              "    }\n",
              "\n",
              "    .colab-df-convert:hover {\n",
              "      background-color: #E2EBFA;\n",
              "      box-shadow: 0px 1px 2px rgba(60, 64, 67, 0.3), 0px 1px 3px 1px rgba(60, 64, 67, 0.15);\n",
              "      fill: #174EA6;\n",
              "    }\n",
              "\n",
              "    [theme=dark] .colab-df-convert {\n",
              "      background-color: #3B4455;\n",
              "      fill: #D2E3FC;\n",
              "    }\n",
              "\n",
              "    [theme=dark] .colab-df-convert:hover {\n",
              "      background-color: #434B5C;\n",
              "      box-shadow: 0px 1px 3px 1px rgba(0, 0, 0, 0.15);\n",
              "      filter: drop-shadow(0px 1px 2px rgba(0, 0, 0, 0.3));\n",
              "      fill: #FFFFFF;\n",
              "    }\n",
              "  </style>\n",
              "\n",
              "      <script>\n",
              "        const buttonEl =\n",
              "          document.querySelector('#df-7d519084-da58-4ad1-99b3-99db5fca6656 button.colab-df-convert');\n",
              "        buttonEl.style.display =\n",
              "          google.colab.kernel.accessAllowed ? 'block' : 'none';\n",
              "\n",
              "        async function convertToInteractive(key) {\n",
              "          const element = document.querySelector('#df-7d519084-da58-4ad1-99b3-99db5fca6656');\n",
              "          const dataTable =\n",
              "            await google.colab.kernel.invokeFunction('convertToInteractive',\n",
              "                                                     [key], {});\n",
              "          if (!dataTable) return;\n",
              "\n",
              "          const docLinkHtml = 'Like what you see? Visit the ' +\n",
              "            '<a target=\"_blank\" href=https://colab.research.google.com/notebooks/data_table.ipynb>data table notebook</a>'\n",
              "            + ' to learn more about interactive tables.';\n",
              "          element.innerHTML = '';\n",
              "          dataTable['output_type'] = 'display_data';\n",
              "          await google.colab.output.renderOutput(dataTable, element);\n",
              "          const docLink = document.createElement('div');\n",
              "          docLink.innerHTML = docLinkHtml;\n",
              "          element.appendChild(docLink);\n",
              "        }\n",
              "      </script>\n",
              "    </div>\n",
              "  </div>\n",
              "  "
            ]
          },
          "metadata": {},
          "execution_count": 181
        }
      ]
    },
    {
      "cell_type": "markdown",
      "source": [
        "O datataframe possui 9829 linhas e 15 colunas. Elas sao refrentes a atletas e suas respectivas informacoes e resultados referentes as olimpiadas de 2016, e mais outras colunas referentes as informacoes do pais nesse ano, e outras colunas referentes ao desempenho do mesmo pais nas olimpiadas de 2012. Sendo elas:<br>\n",
        "- name: O nome do atleta<br>\n",
        "- sex: O genero do atleta<br>\n",
        "- height: A altura do atleta<br>\n",
        "- weight: O peso do atleta<br>\n",
        "- sport: O esporte praticado pelo atleta<br>\n",
        "- gold: Quantas medalhas de ouro o atleta ganhou nas olimpiadas de 2016<br>\n",
        "- silver: Quantas medalhas de prata o atleta ganhou nas olimpiadas de 2016<br>\n",
        "- bronze: Quantas medalhas de bronze o atleta ganhou nas olimpiadas de 2016<br>\n",
        "- country: O pais do atleta<br>\n",
        "- population: A populacao do pais do atleta em 2016<br>\n",
        "- gdp_per_capita: O PIB desse pais dividido pela sua populacao<br>\n",
        "- gold_2012: Quantas medalhas de ouro o pais ganhou em 2012<br>\n",
        "- silver_2012: Quantas medalhas de prata o pais ganhou em 2012<br>\n",
        "- bronze_2012: Quantas medalhas de bronze o pais ganhou em 2012<br>\n",
        "- total_2012: Quantas medalhas o pais ganhou ao total em 2012\n"
      ],
      "metadata": {
        "id": "a4UcRQmZ8qhX"
      }
    },
    {
      "cell_type": "markdown",
      "source": [
        "Dando um info para obter as informacoes sobre o dataframe, seu numero de linhas, tipo de dados e se tem ou nao valor nulo"
      ],
      "metadata": {
        "id": "jhzATRyR8UX3"
      }
    },
    {
      "cell_type": "code",
      "source": [
        "data.info()"
      ],
      "metadata": {
        "colab": {
          "base_uri": "https://localhost:8080/"
        },
        "id": "DhdfIOg98awL",
        "outputId": "b489792e-a94e-4ab1-c502-00700f0b93e3"
      },
      "execution_count": null,
      "outputs": [
        {
          "output_type": "stream",
          "name": "stdout",
          "text": [
            "<class 'pandas.core.frame.DataFrame'>\n",
            "RangeIndex: 9829 entries, 0 to 9828\n",
            "Data columns (total 15 columns):\n",
            " #   Column          Non-Null Count  Dtype  \n",
            "---  ------          --------------  -----  \n",
            " 0   name            9829 non-null   object \n",
            " 1   sex             9829 non-null   object \n",
            " 2   height          9829 non-null   float64\n",
            " 3   weight          9829 non-null   float64\n",
            " 4   sport           9829 non-null   object \n",
            " 5   gold            9829 non-null   int64  \n",
            " 6   silver          9829 non-null   int64  \n",
            " 7   bronze          9829 non-null   int64  \n",
            " 8   country         9829 non-null   object \n",
            " 9   population      9829 non-null   float64\n",
            " 10  gdp_per_capita  9829 non-null   float64\n",
            " 11  gold_2012       9829 non-null   int64  \n",
            " 12  silver_2012     9829 non-null   int64  \n",
            " 13  bronze_2012     9829 non-null   int64  \n",
            " 14  total_2012      9829 non-null   int64  \n",
            "dtypes: float64(4), int64(7), object(4)\n",
            "memory usage: 1.1+ MB\n"
          ]
        }
      ]
    },
    {
      "cell_type": "markdown",
      "source": [
        "Analisando estatisticas descritivas com o describe para obter informacoes"
      ],
      "metadata": {
        "id": "DaftJM9J-Xbe"
      }
    },
    {
      "cell_type": "code",
      "source": [
        "data.describe()"
      ],
      "metadata": {
        "colab": {
          "base_uri": "https://localhost:8080/",
          "height": 300
        },
        "id": "jZG4C-5g-cj4",
        "outputId": "8e723cac-1227-4004-aff9-b6d883ad91cf"
      },
      "execution_count": null,
      "outputs": [
        {
          "output_type": "execute_result",
          "data": {
            "text/plain": [
              "            height       weight         gold       silver       bronze  \\\n",
              "count  9829.000000  9829.000000  9829.000000  9829.000000  9829.000000   \n",
              "mean      1.768644    72.126971     0.063994     0.061654     0.061960   \n",
              "std       0.112766    16.046881     0.270054     0.248855     0.245693   \n",
              "min       1.210000    31.000000     0.000000     0.000000     0.000000   \n",
              "25%       1.690000    60.000000     0.000000     0.000000     0.000000   \n",
              "50%       1.760000    70.000000     0.000000     0.000000     0.000000   \n",
              "75%       1.850000    81.000000     0.000000     0.000000     0.000000   \n",
              "max       2.210000   170.000000     5.000000     2.000000     2.000000   \n",
              "\n",
              "         population  gdp_per_capita    gold_2012  silver_2012  bronze_2012  \\\n",
              "count  9.829000e+03     9829.000000  9829.000000  9829.000000  9829.000000   \n",
              "mean   1.359332e+08    25952.367462     9.246515     8.689083     9.260657   \n",
              "std    2.949293e+08    19548.527483    12.802799     8.925469     8.322558   \n",
              "min    1.068250e+05      277.068309     0.000000     0.000000     0.000000   \n",
              "25%    1.128572e+07     8027.683810     1.000000     1.000000     2.000000   \n",
              "50%    4.641827e+07    25831.582305     4.000000     5.000000     7.000000   \n",
              "75%    9.150808e+07    43248.529909    11.000000    14.000000    13.000000   \n",
              "max    1.371220e+09    80945.079219    47.000000    31.000000    30.000000   \n",
              "\n",
              "        total_2012  \n",
              "count  9829.000000  \n",
              "mean     27.196256  \n",
              "std      29.005263  \n",
              "min       1.000000  \n",
              "25%       6.000000  \n",
              "50%      17.000000  \n",
              "75%      35.000000  \n",
              "max     104.000000  "
            ],
            "text/html": [
              "\n",
              "  <div id=\"df-a773179d-e957-453c-8886-a8b2237b0f0c\">\n",
              "    <div class=\"colab-df-container\">\n",
              "      <div>\n",
              "<style scoped>\n",
              "    .dataframe tbody tr th:only-of-type {\n",
              "        vertical-align: middle;\n",
              "    }\n",
              "\n",
              "    .dataframe tbody tr th {\n",
              "        vertical-align: top;\n",
              "    }\n",
              "\n",
              "    .dataframe thead th {\n",
              "        text-align: right;\n",
              "    }\n",
              "</style>\n",
              "<table border=\"1\" class=\"dataframe\">\n",
              "  <thead>\n",
              "    <tr style=\"text-align: right;\">\n",
              "      <th></th>\n",
              "      <th>height</th>\n",
              "      <th>weight</th>\n",
              "      <th>gold</th>\n",
              "      <th>silver</th>\n",
              "      <th>bronze</th>\n",
              "      <th>population</th>\n",
              "      <th>gdp_per_capita</th>\n",
              "      <th>gold_2012</th>\n",
              "      <th>silver_2012</th>\n",
              "      <th>bronze_2012</th>\n",
              "      <th>total_2012</th>\n",
              "    </tr>\n",
              "  </thead>\n",
              "  <tbody>\n",
              "    <tr>\n",
              "      <th>count</th>\n",
              "      <td>9829.000000</td>\n",
              "      <td>9829.000000</td>\n",
              "      <td>9829.000000</td>\n",
              "      <td>9829.000000</td>\n",
              "      <td>9829.000000</td>\n",
              "      <td>9.829000e+03</td>\n",
              "      <td>9829.000000</td>\n",
              "      <td>9829.000000</td>\n",
              "      <td>9829.000000</td>\n",
              "      <td>9829.000000</td>\n",
              "      <td>9829.000000</td>\n",
              "    </tr>\n",
              "    <tr>\n",
              "      <th>mean</th>\n",
              "      <td>1.768644</td>\n",
              "      <td>72.126971</td>\n",
              "      <td>0.063994</td>\n",
              "      <td>0.061654</td>\n",
              "      <td>0.061960</td>\n",
              "      <td>1.359332e+08</td>\n",
              "      <td>25952.367462</td>\n",
              "      <td>9.246515</td>\n",
              "      <td>8.689083</td>\n",
              "      <td>9.260657</td>\n",
              "      <td>27.196256</td>\n",
              "    </tr>\n",
              "    <tr>\n",
              "      <th>std</th>\n",
              "      <td>0.112766</td>\n",
              "      <td>16.046881</td>\n",
              "      <td>0.270054</td>\n",
              "      <td>0.248855</td>\n",
              "      <td>0.245693</td>\n",
              "      <td>2.949293e+08</td>\n",
              "      <td>19548.527483</td>\n",
              "      <td>12.802799</td>\n",
              "      <td>8.925469</td>\n",
              "      <td>8.322558</td>\n",
              "      <td>29.005263</td>\n",
              "    </tr>\n",
              "    <tr>\n",
              "      <th>min</th>\n",
              "      <td>1.210000</td>\n",
              "      <td>31.000000</td>\n",
              "      <td>0.000000</td>\n",
              "      <td>0.000000</td>\n",
              "      <td>0.000000</td>\n",
              "      <td>1.068250e+05</td>\n",
              "      <td>277.068309</td>\n",
              "      <td>0.000000</td>\n",
              "      <td>0.000000</td>\n",
              "      <td>0.000000</td>\n",
              "      <td>1.000000</td>\n",
              "    </tr>\n",
              "    <tr>\n",
              "      <th>25%</th>\n",
              "      <td>1.690000</td>\n",
              "      <td>60.000000</td>\n",
              "      <td>0.000000</td>\n",
              "      <td>0.000000</td>\n",
              "      <td>0.000000</td>\n",
              "      <td>1.128572e+07</td>\n",
              "      <td>8027.683810</td>\n",
              "      <td>1.000000</td>\n",
              "      <td>1.000000</td>\n",
              "      <td>2.000000</td>\n",
              "      <td>6.000000</td>\n",
              "    </tr>\n",
              "    <tr>\n",
              "      <th>50%</th>\n",
              "      <td>1.760000</td>\n",
              "      <td>70.000000</td>\n",
              "      <td>0.000000</td>\n",
              "      <td>0.000000</td>\n",
              "      <td>0.000000</td>\n",
              "      <td>4.641827e+07</td>\n",
              "      <td>25831.582305</td>\n",
              "      <td>4.000000</td>\n",
              "      <td>5.000000</td>\n",
              "      <td>7.000000</td>\n",
              "      <td>17.000000</td>\n",
              "    </tr>\n",
              "    <tr>\n",
              "      <th>75%</th>\n",
              "      <td>1.850000</td>\n",
              "      <td>81.000000</td>\n",
              "      <td>0.000000</td>\n",
              "      <td>0.000000</td>\n",
              "      <td>0.000000</td>\n",
              "      <td>9.150808e+07</td>\n",
              "      <td>43248.529909</td>\n",
              "      <td>11.000000</td>\n",
              "      <td>14.000000</td>\n",
              "      <td>13.000000</td>\n",
              "      <td>35.000000</td>\n",
              "    </tr>\n",
              "    <tr>\n",
              "      <th>max</th>\n",
              "      <td>2.210000</td>\n",
              "      <td>170.000000</td>\n",
              "      <td>5.000000</td>\n",
              "      <td>2.000000</td>\n",
              "      <td>2.000000</td>\n",
              "      <td>1.371220e+09</td>\n",
              "      <td>80945.079219</td>\n",
              "      <td>47.000000</td>\n",
              "      <td>31.000000</td>\n",
              "      <td>30.000000</td>\n",
              "      <td>104.000000</td>\n",
              "    </tr>\n",
              "  </tbody>\n",
              "</table>\n",
              "</div>\n",
              "      <button class=\"colab-df-convert\" onclick=\"convertToInteractive('df-a773179d-e957-453c-8886-a8b2237b0f0c')\"\n",
              "              title=\"Convert this dataframe to an interactive table.\"\n",
              "              style=\"display:none;\">\n",
              "        \n",
              "  <svg xmlns=\"http://www.w3.org/2000/svg\" height=\"24px\"viewBox=\"0 0 24 24\"\n",
              "       width=\"24px\">\n",
              "    <path d=\"M0 0h24v24H0V0z\" fill=\"none\"/>\n",
              "    <path d=\"M18.56 5.44l.94 2.06.94-2.06 2.06-.94-2.06-.94-.94-2.06-.94 2.06-2.06.94zm-11 1L8.5 8.5l.94-2.06 2.06-.94-2.06-.94L8.5 2.5l-.94 2.06-2.06.94zm10 10l.94 2.06.94-2.06 2.06-.94-2.06-.94-.94-2.06-.94 2.06-2.06.94z\"/><path d=\"M17.41 7.96l-1.37-1.37c-.4-.4-.92-.59-1.43-.59-.52 0-1.04.2-1.43.59L10.3 9.45l-7.72 7.72c-.78.78-.78 2.05 0 2.83L4 21.41c.39.39.9.59 1.41.59.51 0 1.02-.2 1.41-.59l7.78-7.78 2.81-2.81c.8-.78.8-2.07 0-2.86zM5.41 20L4 18.59l7.72-7.72 1.47 1.35L5.41 20z\"/>\n",
              "  </svg>\n",
              "      </button>\n",
              "      \n",
              "  <style>\n",
              "    .colab-df-container {\n",
              "      display:flex;\n",
              "      flex-wrap:wrap;\n",
              "      gap: 12px;\n",
              "    }\n",
              "\n",
              "    .colab-df-convert {\n",
              "      background-color: #E8F0FE;\n",
              "      border: none;\n",
              "      border-radius: 50%;\n",
              "      cursor: pointer;\n",
              "      display: none;\n",
              "      fill: #1967D2;\n",
              "      height: 32px;\n",
              "      padding: 0 0 0 0;\n",
              "      width: 32px;\n",
              "    }\n",
              "\n",
              "    .colab-df-convert:hover {\n",
              "      background-color: #E2EBFA;\n",
              "      box-shadow: 0px 1px 2px rgba(60, 64, 67, 0.3), 0px 1px 3px 1px rgba(60, 64, 67, 0.15);\n",
              "      fill: #174EA6;\n",
              "    }\n",
              "\n",
              "    [theme=dark] .colab-df-convert {\n",
              "      background-color: #3B4455;\n",
              "      fill: #D2E3FC;\n",
              "    }\n",
              "\n",
              "    [theme=dark] .colab-df-convert:hover {\n",
              "      background-color: #434B5C;\n",
              "      box-shadow: 0px 1px 3px 1px rgba(0, 0, 0, 0.15);\n",
              "      filter: drop-shadow(0px 1px 2px rgba(0, 0, 0, 0.3));\n",
              "      fill: #FFFFFF;\n",
              "    }\n",
              "  </style>\n",
              "\n",
              "      <script>\n",
              "        const buttonEl =\n",
              "          document.querySelector('#df-a773179d-e957-453c-8886-a8b2237b0f0c button.colab-df-convert');\n",
              "        buttonEl.style.display =\n",
              "          google.colab.kernel.accessAllowed ? 'block' : 'none';\n",
              "\n",
              "        async function convertToInteractive(key) {\n",
              "          const element = document.querySelector('#df-a773179d-e957-453c-8886-a8b2237b0f0c');\n",
              "          const dataTable =\n",
              "            await google.colab.kernel.invokeFunction('convertToInteractive',\n",
              "                                                     [key], {});\n",
              "          if (!dataTable) return;\n",
              "\n",
              "          const docLinkHtml = 'Like what you see? Visit the ' +\n",
              "            '<a target=\"_blank\" href=https://colab.research.google.com/notebooks/data_table.ipynb>data table notebook</a>'\n",
              "            + ' to learn more about interactive tables.';\n",
              "          element.innerHTML = '';\n",
              "          dataTable['output_type'] = 'display_data';\n",
              "          await google.colab.output.renderOutput(dataTable, element);\n",
              "          const docLink = document.createElement('div');\n",
              "          docLink.innerHTML = docLinkHtml;\n",
              "          element.appendChild(docLink);\n",
              "        }\n",
              "      </script>\n",
              "    </div>\n",
              "  </div>\n",
              "  "
            ]
          },
          "metadata": {},
          "execution_count": 183
        }
      ]
    },
    {
      "cell_type": "markdown",
      "source": [
        "##Primeira hipotese: O conjunto de atletas mais leves, vao ser atletas de algum esporte que seja vantajoso ter um peso menor"
      ],
      "metadata": {
        "id": "-mKHF5KRBD3R"
      }
    },
    {
      "cell_type": "markdown",
      "source": [
        "**Primeiro pegar o percentil de 1 porcento do menores e maiores pesos**"
      ],
      "metadata": {
        "id": "KAs-1j5uDvyb"
      }
    },
    {
      "cell_type": "code",
      "source": [
        "q99 = data['weight'].quantile(0.99)\n",
        "q99"
      ],
      "metadata": {
        "colab": {
          "base_uri": "https://localhost:8080/"
        },
        "id": "J2HiJ5zbDzgh",
        "outputId": "35502a15-ecca-46ee-b84d-bbb0faa2ada8"
      },
      "execution_count": null,
      "outputs": [
        {
          "output_type": "execute_result",
          "data": {
            "text/plain": [
              "124.0"
            ]
          },
          "metadata": {},
          "execution_count": 184
        }
      ]
    },
    {
      "cell_type": "code",
      "source": [
        "q1 = data['weight'].quantile(0.01)\n",
        "q1"
      ],
      "metadata": {
        "colab": {
          "base_uri": "https://localhost:8080/"
        },
        "id": "FgSGhmkED1WG",
        "outputId": "3a0719ad-3687-44f7-faed-9d028372b7d6"
      },
      "execution_count": null,
      "outputs": [
        {
          "output_type": "execute_result",
          "data": {
            "text/plain": [
              "45.0"
            ]
          },
          "metadata": {},
          "execution_count": 185
        }
      ]
    },
    {
      "cell_type": "markdown",
      "source": [
        "Filtrando o conjunto de dados com esse 1% e analisando o esporte que mais aparece"
      ],
      "metadata": {
        "id": "2Qx8Oq81BZJL"
      }
    },
    {
      "cell_type": "code",
      "source": [
        "data[data['weight']<q1]['sport'].value_counts()"
      ],
      "metadata": {
        "colab": {
          "base_uri": "https://localhost:8080/"
        },
        "id": "EkXYH_Q_BWjp",
        "outputId": "4da75477-de10-4ea7-d229-19c40bc1c4ac"
      },
      "execution_count": null,
      "outputs": [
        {
          "output_type": "execute_result",
          "data": {
            "text/plain": [
              "athletics       38\n",
              "gymnastics      26\n",
              "aquatics         2\n",
              "table tennis     1\n",
              "triathlon        1\n",
              "wrestling        1\n",
              "archery          1\n",
              "shooting         1\n",
              "Name: sport, dtype: int64"
            ]
          },
          "metadata": {},
          "execution_count": 186
        }
      ]
    },
    {
      "cell_type": "code",
      "source": [
        "numero_esporte_mais_leve=data[data['weight']<q1]['sport'].value_counts()"
      ],
      "metadata": {
        "id": "vRWsHcyaBgQm"
      },
      "execution_count": null,
      "outputs": []
    },
    {
      "cell_type": "markdown",
      "source": [
        "Plotando um grafico para ver esses dados melhor"
      ],
      "metadata": {
        "id": "h3rvW5PUBmTF"
      }
    },
    {
      "cell_type": "code",
      "source": [
        "labels='Athletics','gymnastics','aquatics', 'table tennis', 'triathlon', 'wrestling', 'archery', 'shooting'\n",
        "size=[numero_esporte_mais_leve[0],numero_esporte_mais_leve[1],numero_esporte_mais_leve[2],numero_esporte_mais_leve[3],numero_esporte_mais_leve[4],numero_esporte_mais_leve[5],numero_esporte_mais_leve[6],numero_esporte_mais_leve[7]]\n",
        "explode = (0, 0, 0, 0, 0, 0, 0, 0)\n",
        "\n",
        "fig1, ax1 = plt.subplots()\n",
        "ax1.pie(size, explode=explode, labels=labels, autopct='%1.1f%%',\n",
        "        shadow=True, startangle=90)\n",
        "ax1.axis('equal')\n",
        "\n",
        "plt.show()"
      ],
      "metadata": {
        "colab": {
          "base_uri": "https://localhost:8080/",
          "height": 255
        },
        "id": "kooXKQc8EMMJ",
        "outputId": "4033cc67-e7c5-450d-97d1-851f9a5839b3"
      },
      "execution_count": null,
      "outputs": [
        {
          "output_type": "display_data",
          "data": {
            "text/plain": [
              "<Figure size 432x288 with 1 Axes>"
            ],
            "image/png": "[encoded data removed]"
          },
          "metadata": {}
        }
      ]
    },
    {
      "cell_type": "markdown",
      "source": [
        "Com isso e possivel ver que o numero de atletas de athletics e de 38 pessoas (53.5%), compondo mais da metade de todos esse conjunto de 71 pessoas, seguido por gymnastics com 26 atletas(36.6%), podendo assim pensar que as participantes dessas modalidades em geral vao tender a ser mais leves, e deve existir um motivo para isso\n"
      ],
      "metadata": {
        "id": "MnzRkjpEBrlo"
      }
    },
    {
      "cell_type": "markdown",
      "source": [
        "Para isso vou pegar apenas os atletas dessas modalidades e seus pesos"
      ],
      "metadata": {
        "id": "yFe3yf02CeGp"
      }
    },
    {
      "cell_type": "markdown",
      "source": [
        "Armazenando os pesos de athletics"
      ],
      "metadata": {
        "id": "bQvg1i_ZC7GV"
      }
    },
    {
      "cell_type": "code",
      "source": [
        "data[data['sport']=='athletics']['weight'].value_counts()"
      ],
      "metadata": {
        "colab": {
          "base_uri": "https://localhost:8080/"
        },
        "id": "2XGvWOMDCkHy",
        "outputId": "ad5cbac7-b8ad-4d3d-db90-5264cf9ff035"
      },
      "execution_count": null,
      "outputs": [
        {
          "output_type": "execute_result",
          "data": {
            "text/plain": [
              "58.0     101\n",
              "60.0      78\n",
              "65.0      76\n",
              "70.0      69\n",
              "63.0      61\n",
              "        ... \n",
              "128.0      1\n",
              "142.0      1\n",
              "157.0      1\n",
              "122.0      1\n",
              "134.0      1\n",
              "Name: weight, Length: 101, dtype: int64"
            ]
          },
          "metadata": {},
          "execution_count": 189
        }
      ]
    },
    {
      "cell_type": "code",
      "source": [
        "peso_athletics=data[data['sport']=='athletics']['weight'].value_counts()"
      ],
      "metadata": {
        "id": "s4Bfsl2PCwGR"
      },
      "execution_count": null,
      "outputs": []
    },
    {
      "cell_type": "markdown",
      "source": [
        "Vendo os pesos de gymnastic"
      ],
      "metadata": {
        "id": "UO102bryC-oH"
      }
    },
    {
      "cell_type": "code",
      "source": [
        "data[data['sport']=='gymnastics']['weight'].value_counts()"
      ],
      "metadata": {
        "colab": {
          "base_uri": "https://localhost:8080/"
        },
        "id": "tOpW3tOvDHFO",
        "outputId": "3ebff7b3-f8aa-4455-cffc-6b9540eed0a3"
      },
      "execution_count": null,
      "outputs": [
        {
          "output_type": "execute_result",
          "data": {
            "text/plain": [
              "55.0    23\n",
              "50.0    22\n",
              "48.0    20\n",
              "47.0    20\n",
              "51.0    14\n",
              "54.0    13\n",
              "53.0    12\n",
              "45.0    12\n",
              "52.0    12\n",
              "62.0    12\n",
              "56.0    12\n",
              "65.0    11\n",
              "60.0    11\n",
              "58.0    10\n",
              "49.0     9\n",
              "57.0     9\n",
              "46.0     8\n",
              "64.0     8\n",
              "63.0     8\n",
              "44.0     6\n",
              "66.0     5\n",
              "72.0     5\n",
              "68.0     5\n",
              "43.0     5\n",
              "71.0     4\n",
              "37.0     3\n",
              "35.0     3\n",
              "67.0     3\n",
              "59.0     3\n",
              "40.0     2\n",
              "78.0     2\n",
              "70.0     2\n",
              "69.0     2\n",
              "34.0     2\n",
              "74.0     1\n",
              "31.0     1\n",
              "41.0     1\n",
              "42.0     1\n",
              "77.0     1\n",
              "36.0     1\n",
              "33.0     1\n",
              "61.0     1\n",
              "75.0     1\n",
              "Name: weight, dtype: int64"
            ]
          },
          "metadata": {},
          "execution_count": 191
        }
      ]
    },
    {
      "cell_type": "markdown",
      "source": [
        "Armazenando o peso de gymnastics"
      ],
      "metadata": {
        "id": "4othxKSCuQfI"
      }
    },
    {
      "cell_type": "code",
      "source": [
        "peso_gymnastics = data[data['sport']=='gymnastics']['weight'].value_counts()"
      ],
      "metadata": {
        "id": "X1C1zqDiC6AF"
      },
      "execution_count": null,
      "outputs": []
    },
    {
      "cell_type": "markdown",
      "source": [
        "Pegando media de peso dos atletas de athletics"
      ],
      "metadata": {
        "id": "v0wkeXwSDnpb"
      }
    },
    {
      "cell_type": "code",
      "source": [
        "media_peso_athletics=data[data['sport']=='athletics']['weight'].median()\n",
        "media_peso_athletics"
      ],
      "metadata": {
        "colab": {
          "base_uri": "https://localhost:8080/"
        },
        "id": "ohOEtpqEESA4",
        "outputId": "36e8ad4d-71ae-481a-b120-c1ac04b16b9b"
      },
      "execution_count": null,
      "outputs": [
        {
          "output_type": "execute_result",
          "data": {
            "text/plain": [
              "64.0"
            ]
          },
          "metadata": {},
          "execution_count": 193
        }
      ]
    },
    {
      "cell_type": "markdown",
      "source": [
        "Pegando media do peso dos atletas de gymnastics"
      ],
      "metadata": {
        "id": "V6AcLaJrE0U1"
      }
    },
    {
      "cell_type": "code",
      "source": [
        "media_peso_gymnastics=data[data['sport']=='gymnastics']['weight'].median()\n",
        "media_peso_gymnastics"
      ],
      "metadata": {
        "colab": {
          "base_uri": "https://localhost:8080/"
        },
        "id": "9rpqwKwIE5Lz",
        "outputId": "1048b335-79c6-4fab-c1cc-274e8a1e276b"
      },
      "execution_count": null,
      "outputs": [
        {
          "output_type": "execute_result",
          "data": {
            "text/plain": [
              "53.0"
            ]
          },
          "metadata": {},
          "execution_count": 194
        }
      ]
    },
    {
      "cell_type": "markdown",
      "source": [
        "Pegando a media de peso de todos os atletas do dataframe"
      ],
      "metadata": {
        "id": "S7_4JDmoE-UE"
      }
    },
    {
      "cell_type": "code",
      "source": [
        "media_peso_atletas=data['weight'].median()\n",
        "media_peso_atletas"
      ],
      "metadata": {
        "colab": {
          "base_uri": "https://localhost:8080/"
        },
        "id": "5ZBtnCDuE9ml",
        "outputId": "b13c3e82-e0d6-4811-830b-0b765cb4484a"
      },
      "execution_count": null,
      "outputs": [
        {
          "output_type": "execute_result",
          "data": {
            "text/plain": [
              "70.0"
            ]
          },
          "metadata": {},
          "execution_count": 195
        }
      ]
    },
    {
      "cell_type": "markdown",
      "source": [
        "Com isso e possivel ver que a media de peso de todos os atletas do dataframe e de 70kg, enquanto que a media de peso dos atletas de athletics e de 64kg e a de gymnastics e de incriveis 53kg, estando muito abaixo da media total. A partir disso e possivel pensar que os atletas dessa modalidade sao muito mais incentivados a serem mais leves do que os outros atletas de outras modalidades, tendo como ser leve, um atributo vantajoso em suas provas"
      ],
      "metadata": {
        "id": "MMZrKkr4FK8G"
      }
    },
    {
      "cell_type": "markdown",
      "source": [
        "**Agora vamos ver como estao os vencedores dessas modalidades e seus pesos**"
      ],
      "metadata": {
        "id": "n93FFUcxGddE"
      }
    },
    {
      "cell_type": "markdown",
      "source": [
        "Pegando apenas atletas de athletics"
      ],
      "metadata": {
        "id": "-8oq2ArgP2kg"
      }
    },
    {
      "cell_type": "code",
      "source": [
        "apenas_athletics=data[data['sport']=='athletics']"
      ],
      "metadata": {
        "id": "adwjBM6-GjvI"
      },
      "execution_count": null,
      "outputs": []
    },
    {
      "cell_type": "markdown",
      "source": [
        "Pegando apenas os vencedores"
      ],
      "metadata": {
        "id": "8r7nQO6CG4Qr"
      }
    },
    {
      "cell_type": "code",
      "source": [
        "apenas_atheltics_gold= apenas_athletics[apenas_athletics['gold']>0]"
      ],
      "metadata": {
        "id": "KhmtpA5gG193"
      },
      "execution_count": null,
      "outputs": []
    },
    {
      "cell_type": "markdown",
      "source": [
        "Exibindo grafico que mostra melhor como esta a distribuicao de peso dos atletas vencedores de athletics"
      ],
      "metadata": {
        "id": "sjt46JRuodm3"
      }
    },
    {
      "cell_type": "code",
      "source": [
        "plt.figure(figsize=(31, 10))\n",
        "plt.tight_layout()\n",
        "sns.countplot(apenas_atheltics_gold['weight'])\n",
        "plt.title('Distribuição das medalhas de outo por altura')"
      ],
      "metadata": {
        "colab": {
          "base_uri": "https://localhost:8080/",
          "height": 518
        },
        "id": "tLzqVXCJT5Oe",
        "outputId": "aae338f0-9e6f-47d4-b034-08fcbe2cb18d"
      },
      "execution_count": null,
      "outputs": [
        {
          "output_type": "stream",
          "name": "stderr",
          "text": [
            "/usr/local/lib/python3.8/dist-packages/seaborn/_decorators.py:36: FutureWarning: Pass the following variable as a keyword arg: x. From version 0.12, the only valid positional argument will be `data`, and passing other arguments without an explicit keyword will result in an error or misinterpretation.\n",
            "  warnings.warn(\n"
          ]
        },
        {
          "output_type": "execute_result",
          "data": {
            "text/plain": [
              "Text(0.5, 1.0, 'Distribuição das medalhas de outo por altura')"
            ]
          },
          "metadata": {},
          "execution_count": 198
        },
        {
          "output_type": "display_data",
          "data": {
            "text/plain": [
              "<Figure size 2232x720 with 1 Axes>"
            ],
            "image/png": "[encoded data removed]"
          },
          "metadata": {
            "needs_background": "light"
          }
        }
      ]
    },
    {
      "cell_type": "markdown",
      "source": [
        "Vendo a a media de peso desses atlestas que ganharam medalhas de ouro"
      ],
      "metadata": {
        "id": "rvp-penoHEbx"
      }
    },
    {
      "cell_type": "code",
      "source": [
        "apenas_atheltics_gold_media=apenas_atheltics_gold['weight'].median()\n",
        "apenas_atheltics_gold_media"
      ],
      "metadata": {
        "colab": {
          "base_uri": "https://localhost:8080/"
        },
        "id": "j71dOTnmHLMJ",
        "outputId": "891be36f-22c8-4d03-bb4c-4671f0bb7203"
      },
      "execution_count": null,
      "outputs": [
        {
          "output_type": "execute_result",
          "data": {
            "text/plain": [
              "71.5"
            ]
          },
          "metadata": {},
          "execution_count": 199
        }
      ]
    },
    {
      "cell_type": "code",
      "source": [
        "apenas_atheltics_gold['weight'].describe()"
      ],
      "metadata": {
        "colab": {
          "base_uri": "https://localhost:8080/"
        },
        "id": "FfJgxFVsXXW2",
        "outputId": "6b4029e3-1dd5-49c1-d970-ea61cd9169d2"
      },
      "execution_count": null,
      "outputs": [
        {
          "output_type": "execute_result",
          "data": {
            "text/plain": [
              "count     58.000000\n",
              "mean      73.120690\n",
              "std       19.929769\n",
              "min       40.000000\n",
              "25%       58.000000\n",
              "50%       71.500000\n",
              "75%       83.750000\n",
              "max      136.000000\n",
              "Name: weight, dtype: float64"
            ]
          },
          "metadata": {},
          "execution_count": 200
        }
      ]
    },
    {
      "cell_type": "markdown",
      "source": [
        "Pegando os atletas que nao ganharam"
      ],
      "metadata": {
        "id": "R3YM_bMSHhMN"
      }
    },
    {
      "cell_type": "code",
      "source": [
        "apenas_atheltics_sem_gold= apenas_athletics[apenas_athletics['gold']==0]"
      ],
      "metadata": {
        "id": "j5hp_xZ4HkZM"
      },
      "execution_count": null,
      "outputs": []
    },
    {
      "cell_type": "code",
      "source": [
        "plt.figure(figsize=(35, 10))\n",
        "plt.tight_layout()\n",
        "sns.countplot(apenas_atheltics_sem_gold['weight'])\n",
        "plt.title('Distribuição das medalhas de outo por altura')"
      ],
      "metadata": {
        "colab": {
          "base_uri": "https://localhost:8080/",
          "height": 467
        },
        "id": "dHar8WX7UeNR",
        "outputId": "0cb4893a-574a-46d0-a6b0-e3d0c6d8db17"
      },
      "execution_count": null,
      "outputs": [
        {
          "output_type": "stream",
          "name": "stderr",
          "text": [
            "/usr/local/lib/python3.8/dist-packages/seaborn/_decorators.py:36: FutureWarning: Pass the following variable as a keyword arg: x. From version 0.12, the only valid positional argument will be `data`, and passing other arguments without an explicit keyword will result in an error or misinterpretation.\n",
            "  warnings.warn(\n"
          ]
        },
        {
          "output_type": "execute_result",
          "data": {
            "text/plain": [
              "Text(0.5, 1.0, 'Distribuição das medalhas de outo por altura')"
            ]
          },
          "metadata": {},
          "execution_count": 202
        },
        {
          "output_type": "display_data",
          "data": {
            "text/plain": [
              "<Figure size 2520x720 with 1 Axes>"
            ],
            "image/png": "[encoded data removed]"
          },
          "metadata": {
            "needs_background": "light"
          }
        }
      ]
    },
    {
      "cell_type": "markdown",
      "source": [
        "Pegando sua media"
      ],
      "metadata": {
        "id": "eZfseS6CHool"
      }
    },
    {
      "cell_type": "code",
      "source": [
        "apenas_atheltics_sem_gold_media= apenas_atheltics_sem_gold['weight'].median()\n",
        "apenas_atheltics_sem_gold_media"
      ],
      "metadata": {
        "colab": {
          "base_uri": "https://localhost:8080/"
        },
        "id": "njlVMsbhHriR",
        "outputId": "27467d9d-5ede-4f73-e73b-6738c81b3aeb"
      },
      "execution_count": null,
      "outputs": [
        {
          "output_type": "execute_result",
          "data": {
            "text/plain": [
              "64.0"
            ]
          },
          "metadata": {},
          "execution_count": 203
        }
      ]
    },
    {
      "cell_type": "code",
      "source": [
        "apenas_atheltics_sem_gold['weight'].describe()"
      ],
      "metadata": {
        "colab": {
          "base_uri": "https://localhost:8080/"
        },
        "id": "zr13Qx2kXfVi",
        "outputId": "5f901e68-e3d1-4d3e-a993-8f461b33ec52"
      },
      "execution_count": null,
      "outputs": [
        {
          "output_type": "execute_result",
          "data": {
            "text/plain": [
              "count    1819.000000\n",
              "mean       67.625069\n",
              "std        17.597509\n",
              "min        39.000000\n",
              "25%        56.000000\n",
              "50%        64.000000\n",
              "75%        75.000000\n",
              "max       157.000000\n",
              "Name: weight, dtype: float64"
            ]
          },
          "metadata": {},
          "execution_count": 204
        }
      ]
    },
    {
      "cell_type": "markdown",
      "source": [
        "Com isso foi possivel ver o oposto,nos atletas de athletics, os atletas que possuem um peso maior ganham mais medalhas de ouro do que os atletas que possuem um peso menor, mesmo no geral, os atletas dessa categoria sendo mais leves. Um possivel motivo para isso seria o peso desses atletas serem de musculos, facilitando a eles uma maior performace fisica, e tambem outro fator pode ser a altura, pensando que atletas maiores conseguem dar passoas maiores e coisas do tipo"
      ],
      "metadata": {
        "id": "Kj8fiyA1JAEW"
      }
    },
    {
      "cell_type": "markdown",
      "source": [
        "Pegar a media de altura do dataset"
      ],
      "metadata": {
        "id": "AQ0V3lzAmUpM"
      }
    },
    {
      "cell_type": "code",
      "source": [
        "data['height'].median()"
      ],
      "metadata": {
        "colab": {
          "base_uri": "https://localhost:8080/"
        },
        "id": "ZkfZVOnDmWp1",
        "outputId": "7ac1ec51-bbf9-4309-c1af-8c7c4c6fe017"
      },
      "execution_count": null,
      "outputs": [
        {
          "output_type": "execute_result",
          "data": {
            "text/plain": [
              "1.76"
            ]
          },
          "metadata": {},
          "execution_count": 205
        }
      ]
    },
    {
      "cell_type": "markdown",
      "source": [
        "No quesito altura vamos pegar os vencedores de atheltics e ver a sua media de altura"
      ],
      "metadata": {
        "id": "CgMO0PN4lfQu"
      }
    },
    {
      "cell_type": "code",
      "source": [
        "apenas_atheltics_gold_altura=apenas_atheltics_gold['height'].median()\n",
        "apenas_atheltics_gold_altura"
      ],
      "metadata": {
        "colab": {
          "base_uri": "https://localhost:8080/"
        },
        "id": "9ejxgPq_ll5R",
        "outputId": "5df23038-c368-4659-cc92-0ca086e186b4"
      },
      "execution_count": null,
      "outputs": [
        {
          "output_type": "execute_result",
          "data": {
            "text/plain": [
              "1.79"
            ]
          },
          "metadata": {},
          "execution_count": 206
        }
      ]
    },
    {
      "cell_type": "code",
      "source": [
        "apenas_atheltics_gold['height'].describe()"
      ],
      "metadata": {
        "colab": {
          "base_uri": "https://localhost:8080/"
        },
        "id": "vg0-KG1rl7XK",
        "outputId": "b342afd5-4441-46b0-acf7-2b1d69dc8979"
      },
      "execution_count": null,
      "outputs": [
        {
          "output_type": "execute_result",
          "data": {
            "text/plain": [
              "count    58.000000\n",
              "mean      1.786379\n",
              "std       0.113241\n",
              "min       1.540000\n",
              "25%       1.702500\n",
              "50%       1.790000\n",
              "75%       1.867500\n",
              "max       2.070000\n",
              "Name: height, dtype: float64"
            ]
          },
          "metadata": {},
          "execution_count": 207
        }
      ]
    },
    {
      "cell_type": "markdown",
      "source": [
        "Grafico mostrando a distribuicao de altura dos atletas vencendores"
      ],
      "metadata": {
        "id": "KIJRb3PFnZxX"
      }
    },
    {
      "cell_type": "code",
      "source": [
        "plt.figure(figsize=(31, 10))\n",
        "plt.tight_layout()\n",
        "sns.countplot(apenas_atheltics_gold['height'])\n",
        "plt.title('Distribuição das medalhas de outo por altura')"
      ],
      "metadata": {
        "colab": {
          "base_uri": "https://localhost:8080/",
          "height": 518
        },
        "id": "ugqVqMY3nVJo",
        "outputId": "21fd881b-a808-458d-f161-ce4b5d2b772c"
      },
      "execution_count": null,
      "outputs": [
        {
          "output_type": "stream",
          "name": "stderr",
          "text": [
            "/usr/local/lib/python3.8/dist-packages/seaborn/_decorators.py:36: FutureWarning: Pass the following variable as a keyword arg: x. From version 0.12, the only valid positional argument will be `data`, and passing other arguments without an explicit keyword will result in an error or misinterpretation.\n",
            "  warnings.warn(\n"
          ]
        },
        {
          "output_type": "execute_result",
          "data": {
            "text/plain": [
              "Text(0.5, 1.0, 'Distribuição das medalhas de outo por altura')"
            ]
          },
          "metadata": {},
          "execution_count": 208
        },
        {
          "output_type": "display_data",
          "data": {
            "text/plain": [
              "<Figure size 2232x720 with 1 Axes>"
            ],
            "image/png": "[encoded data removed]"
          },
          "metadata": {
            "needs_background": "light"
          }
        }
      ]
    },
    {
      "cell_type": "markdown",
      "source": [
        "Agora vamos pegar a media de altura dos atletas que nao ganharam"
      ],
      "metadata": {
        "id": "RpEU6U65mlUj"
      }
    },
    {
      "cell_type": "code",
      "source": [
        "apenas_atheltics_sem_gold_altura=apenas_atheltics_sem_gold['height'].median()\n",
        "apenas_atheltics_sem_gold_altura"
      ],
      "metadata": {
        "colab": {
          "base_uri": "https://localhost:8080/"
        },
        "id": "OTVeA4PQmoLq",
        "outputId": "5f146156-0146-4e85-daa1-bd4a18b87cb4"
      },
      "execution_count": null,
      "outputs": [
        {
          "output_type": "execute_result",
          "data": {
            "text/plain": [
              "1.75"
            ]
          },
          "metadata": {},
          "execution_count": 209
        }
      ]
    },
    {
      "cell_type": "code",
      "source": [
        "apenas_atheltics_sem_gold['height'].describe()"
      ],
      "metadata": {
        "colab": {
          "base_uri": "https://localhost:8080/"
        },
        "id": "57hIwteLm3HA",
        "outputId": "a2d279e7-cabd-4abf-ef5b-295e8991dc57"
      },
      "execution_count": null,
      "outputs": [
        {
          "output_type": "execute_result",
          "data": {
            "text/plain": [
              "count    1819.000000\n",
              "mean        1.754524\n",
              "std         0.104472\n",
              "min         1.210000\n",
              "25%         1.680000\n",
              "50%         1.750000\n",
              "75%         1.830000\n",
              "max         2.080000\n",
              "Name: height, dtype: float64"
            ]
          },
          "metadata": {},
          "execution_count": 210
        }
      ]
    },
    {
      "cell_type": "markdown",
      "source": [
        "Grafico mostrando a distribuicao de altura dos atletas que nao foram vencendores"
      ],
      "metadata": {
        "id": "at2w4fwengG2"
      }
    },
    {
      "cell_type": "code",
      "source": [
        "plt.figure(figsize=(35, 10))\n",
        "plt.tight_layout()\n",
        "sns.countplot(apenas_atheltics_sem_gold['height'])\n",
        "plt.title('Distribuição das medalhas de outo por altura')"
      ],
      "metadata": {
        "colab": {
          "base_uri": "https://localhost:8080/",
          "height": 467
        },
        "id": "MdXNi3w0nN0p",
        "outputId": "572f734f-dabb-4a5a-c84b-e1459b5bd32a"
      },
      "execution_count": null,
      "outputs": [
        {
          "output_type": "stream",
          "name": "stderr",
          "text": [
            "/usr/local/lib/python3.8/dist-packages/seaborn/_decorators.py:36: FutureWarning: Pass the following variable as a keyword arg: x. From version 0.12, the only valid positional argument will be `data`, and passing other arguments without an explicit keyword will result in an error or misinterpretation.\n",
            "  warnings.warn(\n"
          ]
        },
        {
          "output_type": "execute_result",
          "data": {
            "text/plain": [
              "Text(0.5, 1.0, 'Distribuição das medalhas de outo por altura')"
            ]
          },
          "metadata": {},
          "execution_count": 211
        },
        {
          "output_type": "display_data",
          "data": {
            "text/plain": [
              "<Figure size 2520x720 with 1 Axes>"
            ],
            "image/png": "[encoded data removed]"
          },
          "metadata": {
            "needs_background": "light"
          }
        }
      ]
    },
    {
      "cell_type": "markdown",
      "source": [
        "Assim podemos perceber que realmente os atletas que estao ganhando em athletics sao os atletas mais altos, enquanto que os que nao estao vencendo possuem uma media de altura menor, justificando assim o porque do peso dos vencedores ser maior, ja que quanto maior a pessoa consequentemente mais pesada ela vai ser"
      ],
      "metadata": {
        "id": "pbyyggN6m6AS"
      }
    },
    {
      "cell_type": "markdown",
      "source": [
        "Pegando apenas atletas de gymnastics"
      ],
      "metadata": {
        "id": "2rdW46n-P07q"
      }
    },
    {
      "cell_type": "code",
      "source": [
        "apenas_gymnastics=data[data['sport']=='gymnastics']"
      ],
      "metadata": {
        "id": "19Jac_m2P-hL"
      },
      "execution_count": null,
      "outputs": []
    },
    {
      "cell_type": "markdown",
      "source": [
        "Pegando apenas os vencedores"
      ],
      "metadata": {
        "id": "UKaB8wOWQCd-"
      }
    },
    {
      "cell_type": "code",
      "source": [
        "apenas_gymnastics_gold= apenas_gymnastics[apenas_gymnastics['gold']>0]"
      ],
      "metadata": {
        "id": "YkeePJUIQC2f"
      },
      "execution_count": null,
      "outputs": []
    },
    {
      "cell_type": "code",
      "source": [
        "plt.figure(figsize=(31, 10))\n",
        "plt.tight_layout()\n",
        "sns.countplot(apenas_gymnastics_gold['weight'])\n",
        "plt.title('Distribuição das medalhas de outo por altura')"
      ],
      "metadata": {
        "colab": {
          "base_uri": "https://localhost:8080/",
          "height": 515
        },
        "id": "IYMDxm2eUOfy",
        "outputId": "2dde8253-81a5-46bb-8d51-5137461dbce2"
      },
      "execution_count": null,
      "outputs": [
        {
          "output_type": "stream",
          "name": "stderr",
          "text": [
            "/usr/local/lib/python3.8/dist-packages/seaborn/_decorators.py:36: FutureWarning: Pass the following variable as a keyword arg: x. From version 0.12, the only valid positional argument will be `data`, and passing other arguments without an explicit keyword will result in an error or misinterpretation.\n",
            "  warnings.warn(\n"
          ]
        },
        {
          "output_type": "execute_result",
          "data": {
            "text/plain": [
              "Text(0.5, 1.0, 'Distribuição das medalhas de outo por altura')"
            ]
          },
          "metadata": {},
          "execution_count": 214
        },
        {
          "output_type": "display_data",
          "data": {
            "text/plain": [
              "<Figure size 2232x720 with 1 Axes>"
            ],
            "image/png": "[encoded data removed]"
          },
          "metadata": {
            "needs_background": "light"
          }
        }
      ]
    },
    {
      "cell_type": "markdown",
      "source": [
        "Vendo a a media de peso desses atletas que ganharam medalhas de ouro"
      ],
      "metadata": {
        "id": "5iHVaUNYQLkt"
      }
    },
    {
      "cell_type": "code",
      "source": [
        "apenas_gymnastics_gold_media=apenas_gymnastics_gold['weight'].median()\n",
        "apenas_gymnastics_gold_media"
      ],
      "metadata": {
        "colab": {
          "base_uri": "https://localhost:8080/"
        },
        "id": "eC2KgwGrQOE9",
        "outputId": "e96d0fd9-8a52-43b4-a0d8-37e41f688fb2"
      },
      "execution_count": null,
      "outputs": [
        {
          "output_type": "execute_result",
          "data": {
            "text/plain": [
              "52.0"
            ]
          },
          "metadata": {},
          "execution_count": 215
        }
      ]
    },
    {
      "cell_type": "code",
      "source": [
        "apenas_gymnastics_gold['weight'].describe()"
      ],
      "metadata": {
        "colab": {
          "base_uri": "https://localhost:8080/"
        },
        "id": "0UWvf678XiEh",
        "outputId": "fbfefa7e-b56c-4913-9b8a-7309e7c49235"
      },
      "execution_count": null,
      "outputs": [
        {
          "output_type": "execute_result",
          "data": {
            "text/plain": [
              "count    25.000000\n",
              "mean     52.760000\n",
              "std       6.057227\n",
              "min      44.000000\n",
              "25%      48.000000\n",
              "50%      52.000000\n",
              "75%      56.000000\n",
              "max      68.000000\n",
              "Name: weight, dtype: float64"
            ]
          },
          "metadata": {},
          "execution_count": 216
        }
      ]
    },
    {
      "cell_type": "markdown",
      "source": [
        "Pegando os atletas que nao ganharam"
      ],
      "metadata": {
        "id": "1hFzp8ZpQX78"
      }
    },
    {
      "cell_type": "code",
      "source": [
        "apenas_gymnastics_sem_gold= apenas_gymnastics[apenas_gymnastics['gold']==0]"
      ],
      "metadata": {
        "id": "WWxp7ydhQZDD"
      },
      "execution_count": null,
      "outputs": []
    },
    {
      "cell_type": "code",
      "source": [
        "plt.figure(figsize=(31, 10))\n",
        "plt.tight_layout()\n",
        "sns.countplot(apenas_gymnastics_sem_gold['weight'])\n",
        "plt.title('Distribuição das medalhas de outo por altura')"
      ],
      "metadata": {
        "colab": {
          "base_uri": "https://localhost:8080/",
          "height": 516
        },
        "id": "ZIatjvjzUVGV",
        "outputId": "2889b9f7-b841-40ea-8f54-9d2e8bf86d44"
      },
      "execution_count": null,
      "outputs": [
        {
          "output_type": "stream",
          "name": "stderr",
          "text": [
            "/usr/local/lib/python3.8/dist-packages/seaborn/_decorators.py:36: FutureWarning: Pass the following variable as a keyword arg: x. From version 0.12, the only valid positional argument will be `data`, and passing other arguments without an explicit keyword will result in an error or misinterpretation.\n",
            "  warnings.warn(\n"
          ]
        },
        {
          "output_type": "execute_result",
          "data": {
            "text/plain": [
              "Text(0.5, 1.0, 'Distribuição das medalhas de outo por altura')"
            ]
          },
          "metadata": {},
          "execution_count": 218
        },
        {
          "output_type": "display_data",
          "data": {
            "text/plain": [
              "<Figure size 2232x720 with 1 Axes>"
            ],
            "image/png": "[encoded data removed]"
          },
          "metadata": {
            "needs_background": "light"
          }
        }
      ]
    },
    {
      "cell_type": "markdown",
      "source": [
        "Pegando sua media"
      ],
      "metadata": {
        "id": "NZljdvNxQfo_"
      }
    },
    {
      "cell_type": "code",
      "source": [
        "apenas_gymnastics_sem_gold_media= apenas_gymnastics_sem_gold['weight'].median()\n",
        "apenas_gymnastics_sem_gold_media"
      ],
      "metadata": {
        "colab": {
          "base_uri": "https://localhost:8080/"
        },
        "id": "7O1p_xi6QgHb",
        "outputId": "c1eba41e-b7d9-4dbf-cfcf-90c6004b9216"
      },
      "execution_count": null,
      "outputs": [
        {
          "output_type": "execute_result",
          "data": {
            "text/plain": [
              "54.0"
            ]
          },
          "metadata": {},
          "execution_count": 219
        }
      ]
    },
    {
      "cell_type": "code",
      "source": [
        "apenas_gymnastics_sem_gold['weight'].describe()"
      ],
      "metadata": {
        "colab": {
          "base_uri": "https://localhost:8080/"
        },
        "id": "_nsJYZBKXkgJ",
        "outputId": "9ff818d4-a53f-46e5-9863-4674019112e8"
      },
      "execution_count": null,
      "outputs": [
        {
          "output_type": "execute_result",
          "data": {
            "text/plain": [
              "count    282.000000\n",
              "mean      54.290780\n",
              "std        8.808795\n",
              "min       31.000000\n",
              "25%       48.000000\n",
              "50%       54.000000\n",
              "75%       60.000000\n",
              "max       78.000000\n",
              "Name: weight, dtype: float64"
            ]
          },
          "metadata": {},
          "execution_count": 220
        }
      ]
    },
    {
      "cell_type": "markdown",
      "source": [
        "Agora, diferente do athletics, gymnastics os atletas que estao ganhando medalhas de ouro realmente sao atletas que possuem uma media de peso muito menor que a media de peso geral dos atletas, e tambem possuem uma media de peso menor do que os atletas que nao estao ganhando medalhas de ouro, e sao da mesma categoria. Assim, pode-se concluir que os atletas dessa modalidade de uma forma geral sao incentivados a serem mais leves, visto que os atletas que possuem pesos menores, tem um desempenho melhor nela, podendo dizer que menor peso vai ser uma caracteristica vantajosa"
      ],
      "metadata": {
        "id": "KGOn8mCHQoKt"
      }
    },
    {
      "cell_type": "markdown",
      "source": [
        "##Segunda hipotese: os paises que mais ganham olimpiadas tem que ter um bom PIB, para poderem investir em seus atletas e dar uma boa estrutura"
      ],
      "metadata": {
        "id": "zW8XeN16Jhdk"
      }
    },
    {
      "cell_type": "markdown",
      "source": [
        "Vamos ver os paises que possuem o maior  PIB\n",
        "\n",
        "\n"
      ],
      "metadata": {
        "id": "-yq_JchGKnz1"
      }
    },
    {
      "cell_type": "code",
      "source": [
        "pib_80= data['gdp_per_capita'].quantile(0.80)\n",
        "pib_80"
      ],
      "metadata": {
        "colab": {
          "base_uri": "https://localhost:8080/"
        },
        "id": "wBtQb8bWK4FN",
        "outputId": "d277480b-c071-4339-a575-e2aa68c18005"
      },
      "execution_count": null,
      "outputs": [
        {
          "output_type": "execute_result",
          "data": {
            "text/plain": [
              "43875.9696143686"
            ]
          },
          "metadata": {},
          "execution_count": 221
        }
      ]
    },
    {
      "cell_type": "code",
      "source": [
        "data[data['gdp_per_capita']>pib_80]['country'].value_counts()"
      ],
      "metadata": {
        "colab": {
          "base_uri": "https://localhost:8080/"
        },
        "id": "AOzRPcHCLa1H",
        "outputId": "4f6a9bd1-fb16-4801-97e6-7e55e8e05ffd"
      },
      "execution_count": null,
      "outputs": [
        {
          "output_type": "execute_result",
          "data": {
            "text/plain": [
              "United States    552\n",
              "Australia        410\n",
              "Netherlands      246\n",
              "Sweden           163\n",
              "Denmark          128\n",
              "Switzerland      104\n",
              "Ireland           72\n",
              "Qatar             37\n",
              "Singapore         25\n",
              "Norway             3\n",
              "Name: country, dtype: int64"
            ]
          },
          "metadata": {},
          "execution_count": 222
        }
      ]
    },
    {
      "cell_type": "markdown",
      "source": [
        "Data com os paises com maior PIB"
      ],
      "metadata": {
        "id": "LBDkKJzNrxNi"
      }
    },
    {
      "cell_type": "code",
      "source": [
        "paises_pib_maior_80=data[data['gdp_per_capita']>pib_80]"
      ],
      "metadata": {
        "id": "3kG4PEPEsOqV"
      },
      "execution_count": null,
      "outputs": []
    },
    {
      "cell_type": "markdown",
      "source": [
        "Exibindo os paises que possuem o maior PIB"
      ],
      "metadata": {
        "id": "Kh3vBJl_NRiL"
      }
    },
    {
      "cell_type": "code",
      "source": [
        "pd.unique(paises_pib_maior_80['country'])"
      ],
      "metadata": {
        "colab": {
          "base_uri": "https://localhost:8080/"
        },
        "id": "VyeidHuFNEdV",
        "outputId": "84b11c63-b055-4fa2-fd44-d721c3c62961"
      },
      "execution_count": null,
      "outputs": [
        {
          "output_type": "execute_result",
          "data": {
            "text/plain": [
              "array(['Australia', 'United States', 'Qatar', 'Denmark', 'Netherlands',\n",
              "       'Sweden', 'Ireland', 'Switzerland', 'Singapore', 'Norway'],\n",
              "      dtype=object)"
            ]
          },
          "metadata": {},
          "execution_count": 224
        }
      ]
    },
    {
      "cell_type": "markdown",
      "source": [
        "Pegando a contagem de altetas desses paises"
      ],
      "metadata": {
        "id": "faJPECrIM0ye"
      }
    },
    {
      "cell_type": "code",
      "source": [
        "numero_atletas_pib=data[data['gdp_per_capita']>pib_80]['country'].value_counts()"
      ],
      "metadata": {
        "id": "95_He7PUM-N_"
      },
      "execution_count": null,
      "outputs": []
    },
    {
      "cell_type": "markdown",
      "source": [
        "Com isso podemos ver os paises que estao entre os 20% de melhor PIB dentre todos os paises que participaram das olimpiadas. Com base nisso e em nossas privisao e muito provavel que esses paises estejam entre os paises que mais ganharam medalhas ao total"
      ],
      "metadata": {
        "id": "E78lBaX5MiHp"
      }
    },
    {
      "cell_type": "markdown",
      "source": [
        "Agora vamos procurar os paises que mais ganharam medalhas totais"
      ],
      "metadata": {
        "id": "xFUmFgYcJokf"
      }
    },
    {
      "cell_type": "code",
      "source": [
        "medalhas_80 = data['total_2012'].quantile(0.80)\n",
        "medalhas_80"
      ],
      "metadata": {
        "colab": {
          "base_uri": "https://localhost:8080/"
        },
        "id": "EmQPn60EJyqp",
        "outputId": "92d46e75-2be2-4f2c-fa1c-3f7372e70742"
      },
      "execution_count": null,
      "outputs": [
        {
          "output_type": "execute_result",
          "data": {
            "text/plain": [
              "44.0"
            ]
          },
          "metadata": {},
          "execution_count": 226
        }
      ]
    },
    {
      "cell_type": "markdown",
      "source": [
        "Agora ver quais paises estao nesse numero"
      ],
      "metadata": {
        "id": "WJ2HpYT9KIE1"
      }
    },
    {
      "cell_type": "code",
      "source": [
        "data[data['total_2012']>medalhas_80]['country'].value_counts()"
      ],
      "metadata": {
        "colab": {
          "base_uri": "https://localhost:8080/"
        },
        "id": "PswblGT1KLQ6",
        "outputId": "0d5052fe-05bc-4a0a-e83a-1a09aa92b2c7"
      },
      "execution_count": null,
      "outputs": [
        {
          "output_type": "execute_result",
          "data": {
            "text/plain": [
              "United States     552\n",
              "China             393\n",
              "United Kingdom    356\n",
              "Russia            264\n",
              "Name: country, dtype: int64"
            ]
          },
          "metadata": {},
          "execution_count": 227
        }
      ]
    },
    {
      "cell_type": "markdown",
      "source": [
        "Vendo os paises do dataset que estao fazendo parte dessa parcela dos paises que mais ganhram medalhas"
      ],
      "metadata": {
        "id": "CWImla51LuHF"
      }
    },
    {
      "cell_type": "code",
      "source": [
        "numero_medalhas_totais_atletas= data[data['total_2012']>medalhas_80]['country'].value_counts()"
      ],
      "metadata": {
        "id": "vGsGj389LMKZ"
      },
      "execution_count": null,
      "outputs": []
    },
    {
      "cell_type": "markdown",
      "source": [
        "Assim foi possivel ver, que dentre os paises que faziam parte da lista de paises que tinha o melhor PIB, relamente um deles esta nessa parcela de paises que mais ganharam medalhas, que por sua vez e os Estados Unidos, podendo assim pensar na existencia de uma relacao."
      ],
      "metadata": {
        "id": "e6R1-khMKkCb"
      }
    },
    {
      "cell_type": "markdown",
      "source": [
        "Agora ver se os paises com o menor PIB estao entre os paises que menos receberam medalhas"
      ],
      "metadata": {
        "id": "vpzzTakqVKFn"
      }
    },
    {
      "cell_type": "markdown",
      "source": [
        "Comecar pegando o percentil dos paises com o menor PIB"
      ],
      "metadata": {
        "id": "vRMKhFbIZiNe"
      }
    },
    {
      "cell_type": "code",
      "source": [
        "pib_20= data['gdp_per_capita'].quantile(0.20)\n",
        "pib_20"
      ],
      "metadata": {
        "colab": {
          "base_uri": "https://localhost:8080/"
        },
        "id": "IgWhbxKzVSjJ",
        "outputId": "3448d44b-b9f6-41e2-d59c-d5de28a7d4b7"
      },
      "execution_count": null,
      "outputs": [
        {
          "output_type": "execute_result",
          "data": {
            "text/plain": [
              "6056.14771720405"
            ]
          },
          "metadata": {},
          "execution_count": 229
        }
      ]
    },
    {
      "cell_type": "markdown",
      "source": [
        "Agora pegar a contagem de atletas dos paises que fazem parte dele"
      ],
      "metadata": {
        "id": "3GDMbbbtZmHc"
      }
    },
    {
      "cell_type": "code",
      "source": [
        "data[data['gdp_per_capita']<pib_20]['country'].value_counts()"
      ],
      "metadata": {
        "colab": {
          "base_uri": "https://localhost:8080/"
        },
        "id": "del18ZkLVaQT",
        "outputId": "eb29c6a7-fcd9-46a9-a777-d53613908a3c"
      },
      "execution_count": null,
      "outputs": [
        {
          "output_type": "execute_result",
          "data": {
            "text/plain": [
              "Ukraine          196\n",
              "South Africa     142\n",
              "Belarus          121\n",
              "Egypt            114\n",
              "Cuba             112\n",
              "India            110\n",
              "Venezuela         76\n",
              "Kenya             72\n",
              "Iran              63\n",
              "Algeria           60\n",
              "Uzbekistan        57\n",
              "Tunisia           56\n",
              "Nigeria           56\n",
              "Jamaica           55\n",
              "Taiwan            53\n",
              "Thailand          49\n",
              "Fiji              48\n",
              "Azerbaijan        45\n",
              "Morocco           41\n",
              "Georgia           40\n",
              "Puerto Rico*      38\n",
              "Mongolia          36\n",
              "Ethiopia          36\n",
              "Korea, North      31\n",
              "Indonesia         28\n",
              "Armenia           27\n",
              "Vietnam           23\n",
              "Guatemala         21\n",
              "Cameroon          20\n",
              "Kyrgyzstan        17\n",
              "Cote d'Ivoire     10\n",
              "Philippines       10\n",
              "Burundi            9\n",
              "Jordan             6\n",
              "Tajikistan         6\n",
              "Afghanistan        3\n",
              "Name: country, dtype: int64"
            ]
          },
          "metadata": {},
          "execution_count": 230
        }
      ]
    },
    {
      "cell_type": "markdown",
      "source": [
        "Pegando o percentil de medalhas dos paises que menos receberam medalhas totais nas olimpiadas"
      ],
      "metadata": {
        "id": "KRL91PHuZq2x"
      }
    },
    {
      "cell_type": "code",
      "source": [
        "medalhas_10 = data['total_2012'].quantile(0.10)\n",
        "medalhas_10"
      ],
      "metadata": {
        "colab": {
          "base_uri": "https://localhost:8080/"
        },
        "id": "lHMnvLMKVi2E",
        "outputId": "520f4087-b0f5-46f9-fd01-39e3fca7acca"
      },
      "execution_count": null,
      "outputs": [
        {
          "output_type": "execute_result",
          "data": {
            "text/plain": [
              "2.0"
            ]
          },
          "metadata": {},
          "execution_count": 231
        }
      ]
    },
    {
      "cell_type": "markdown",
      "source": [
        "Agora ver quais paises estao nesse numero"
      ],
      "metadata": {
        "id": "diPa3TvBVolj"
      }
    },
    {
      "cell_type": "markdown",
      "source": [
        "Pegando todos esses paises e colocando em uma lista"
      ],
      "metadata": {
        "id": "0T0vElJzW67U"
      }
    },
    {
      "cell_type": "code",
      "source": [
        "lista_paise_menos_medalha=list(data[data['total_2012']<medalhas_10]['country'])"
      ],
      "metadata": {
        "id": "4ck9yWvEVo8t"
      },
      "execution_count": null,
      "outputs": []
    },
    {
      "cell_type": "markdown",
      "source": [
        "Eliminando a repeticao"
      ],
      "metadata": {
        "id": "_1GMBLIxW-y1"
      }
    },
    {
      "cell_type": "code",
      "source": [
        "lista_paise_menos_medalha = list(dict.fromkeys(lista_paise_menos_medalha))"
      ],
      "metadata": {
        "id": "5PpskKl6V6CB"
      },
      "execution_count": null,
      "outputs": []
    },
    {
      "cell_type": "markdown",
      "source": [
        "Colocando em ordem alfabetica"
      ],
      "metadata": {
        "id": "6ENp-6zvXBCS"
      }
    },
    {
      "cell_type": "code",
      "source": [
        "lista_paise_menos_medalha.sort()"
      ],
      "metadata": {
        "id": "b8bJ4gD0V8Wg"
      },
      "execution_count": null,
      "outputs": []
    },
    {
      "cell_type": "code",
      "source": [
        "lista_paise_menos_medalha"
      ],
      "metadata": {
        "colab": {
          "base_uri": "https://localhost:8080/"
        },
        "id": "Oa92aj1sW1lA",
        "outputId": "6efbb253-1960-4c44-b568-1dee80ebdec9"
      },
      "execution_count": null,
      "outputs": [
        {
          "output_type": "execute_result",
          "data": {
            "text/plain": [
              "['Afghanistan',\n",
              " 'Algeria',\n",
              " 'Austria',\n",
              " 'Bahamas',\n",
              " 'Bahrain',\n",
              " 'Botswana',\n",
              " 'Burundi',\n",
              " 'Cameroon',\n",
              " 'Cyprus',\n",
              " 'Fiji',\n",
              " 'Gabon',\n",
              " 'Grenada',\n",
              " 'Guatemala',\n",
              " 'Hong Kong*',\n",
              " 'Jordan',\n",
              " 'Kyrgyzstan',\n",
              " 'Morocco',\n",
              " 'Nigeria',\n",
              " 'Philippines',\n",
              " 'Portugal',\n",
              " 'Saudi Arabia',\n",
              " 'Tajikistan',\n",
              " 'United Arab Emirates',\n",
              " 'Venezuela']"
            ]
          },
          "metadata": {},
          "execution_count": 235
        }
      ]
    },
    {
      "cell_type": "markdown",
      "source": [
        "Criando uma lista para os do PIB tambem"
      ],
      "metadata": {
        "id": "SfRuvUKAXFuT"
      }
    },
    {
      "cell_type": "code",
      "source": [
        "lista_paise_menos_PIB=list(data[data['gdp_per_capita']<pib_20]['country'])"
      ],
      "metadata": {
        "id": "rTgCIRwkXIty"
      },
      "execution_count": null,
      "outputs": []
    },
    {
      "cell_type": "markdown",
      "source": [
        "Eliminando a repeticao"
      ],
      "metadata": {
        "id": "a_XFKWdgXUYN"
      }
    },
    {
      "cell_type": "code",
      "source": [
        "lista_paise_menos_PIB = list(dict.fromkeys(lista_paise_menos_PIB))"
      ],
      "metadata": {
        "id": "Ni1Yo3GTXUrh"
      },
      "execution_count": null,
      "outputs": []
    },
    {
      "cell_type": "markdown",
      "source": [
        "Colocando em ordem alfabetica"
      ],
      "metadata": {
        "id": "Whim2vY9XWsi"
      }
    },
    {
      "cell_type": "code",
      "source": [
        "lista_paise_menos_PIB.sort()"
      ],
      "metadata": {
        "id": "5f0T4FkBXYRB"
      },
      "execution_count": null,
      "outputs": []
    },
    {
      "cell_type": "code",
      "source": [
        "lista_paise_menos_PIB"
      ],
      "metadata": {
        "colab": {
          "base_uri": "https://localhost:8080/"
        },
        "id": "e_ounOn0XhyX",
        "outputId": "44338a1c-75e1-4312-e27e-0815488e9371"
      },
      "execution_count": null,
      "outputs": [
        {
          "output_type": "execute_result",
          "data": {
            "text/plain": [
              "['Afghanistan',\n",
              " 'Algeria',\n",
              " 'Armenia',\n",
              " 'Azerbaijan',\n",
              " 'Belarus',\n",
              " 'Burundi',\n",
              " 'Cameroon',\n",
              " \"Cote d'Ivoire\",\n",
              " 'Cuba',\n",
              " 'Egypt',\n",
              " 'Ethiopia',\n",
              " 'Fiji',\n",
              " 'Georgia',\n",
              " 'Guatemala',\n",
              " 'India',\n",
              " 'Indonesia',\n",
              " 'Iran',\n",
              " 'Jamaica',\n",
              " 'Jordan',\n",
              " 'Kenya',\n",
              " 'Korea, North',\n",
              " 'Kyrgyzstan',\n",
              " 'Mongolia',\n",
              " 'Morocco',\n",
              " 'Nigeria',\n",
              " 'Philippines',\n",
              " 'Puerto Rico*',\n",
              " 'South Africa',\n",
              " 'Taiwan',\n",
              " 'Tajikistan',\n",
              " 'Thailand',\n",
              " 'Tunisia',\n",
              " 'Ukraine',\n",
              " 'Uzbekistan',\n",
              " 'Venezuela',\n",
              " 'Vietnam']"
            ]
          },
          "metadata": {},
          "execution_count": 239
        }
      ]
    },
    {
      "cell_type": "markdown",
      "source": [
        "Pegando os paises que estao tanto nos paises com menos PIB quanto nos paises com menso medalhas"
      ],
      "metadata": {
        "id": "h1gZGd1jYTIs"
      }
    },
    {
      "cell_type": "code",
      "source": [
        "lista_paises_comum=list(set(lista_paise_menos_PIB).intersection(set(lista_paise_menos_medalha)))"
      ],
      "metadata": {
        "id": "oeKXJXa7X38R"
      },
      "execution_count": null,
      "outputs": []
    },
    {
      "cell_type": "code",
      "source": [
        "lista_paises_comum"
      ],
      "metadata": {
        "colab": {
          "base_uri": "https://localhost:8080/"
        },
        "id": "qR-ijQVhYX6P",
        "outputId": "571af8ec-3484-4b59-dc1f-0656e574961d"
      },
      "execution_count": null,
      "outputs": [
        {
          "output_type": "execute_result",
          "data": {
            "text/plain": [
              "['Kyrgyzstan',\n",
              " 'Afghanistan',\n",
              " 'Burundi',\n",
              " 'Philippines',\n",
              " 'Cameroon',\n",
              " 'Jordan',\n",
              " 'Nigeria',\n",
              " 'Algeria',\n",
              " 'Morocco',\n",
              " 'Guatemala',\n",
              " 'Tajikistan',\n",
              " 'Venezuela',\n",
              " 'Fiji']"
            ]
          },
          "metadata": {},
          "execution_count": 241
        }
      ]
    },
    {
      "cell_type": "markdown",
      "source": [
        "Com esses dados e possivel ver que a maioria dos paises com menos medalhas, fazem parte dos paises com menor PIB"
      ],
      "metadata": {
        "id": "-2eGL8yVYnMf"
      }
    },
    {
      "cell_type": "markdown",
      "source": [
        "Entao, atraves disso e possivel constatar a existencia de uma relacao entre o PIB do pais e se ele esta entre os paises que mais ganharam medalhas e principalmente entre os paises que menos ganharam medalhas. Visto que na primeira etapa da analise, pode-se ver que o pais que estava com o maior numero de medalhas, estava entre os paises com o maior PIB, e ja na segunda etapa, os paises que estava entre os paises com o menor numero de medalhas, em sua maioria, estao entre os paises com os menores PIB"
      ],
      "metadata": {
        "id": "oNgXmohlYyWE"
      }
    },
    {
      "cell_type": "markdown",
      "source": [
        "Mas, vendo esses resultados e possivel pensar que existe a possibilidade do pais ter um bom PIB porem nao investir no esporte, e existe outra coisa que pode ter relacao com o PIB e tambem pode ter relacao com o numero de medalhas que vao vir a ser ganhadas, que por sua vez e o numero de atletas que sao mandados para representar o pais. Quanto mais o pais investe no esporte, mais estrutura ele  da pra os atletas treinarem e se classificarem, e mais atletas ele consegue enviar, e quanto mais atletas voce manda, maiores sao suas chances de ganhar"
      ],
      "metadata": {
        "id": "b71zE9DQOh4C"
      }
    },
    {
      "cell_type": "markdown",
      "source": [
        "Primeiro vamos pegar a contagem de atletas de cada pais e ver os paises que mais mandaram atletas."
      ],
      "metadata": {
        "id": "6e9nI0wFO8P4"
      }
    },
    {
      "cell_type": "code",
      "source": [
        "contagem_atletas_por_pais=data['country'].value_counts()"
      ],
      "metadata": {
        "id": "qKMNTkbOPC6U"
      },
      "execution_count": null,
      "outputs": []
    },
    {
      "cell_type": "markdown",
      "source": [
        "Exibindo os 10 paises com mais atletas nas olimpiadas e seus numeros e seu grafico para ajudar a vizualizar melhor"
      ],
      "metadata": {
        "id": "BdKdQ1hkQBN7"
      }
    },
    {
      "cell_type": "code",
      "source": [
        "contagem_atletas_por_pais[:10]"
      ],
      "metadata": {
        "colab": {
          "base_uri": "https://localhost:8080/"
        },
        "id": "HFAIOktMP-ZV",
        "outputId": "cd14a5f4-8cb0-4051-f2f7-653db99d91d4"
      },
      "execution_count": null,
      "outputs": [
        {
          "output_type": "execute_result",
          "data": {
            "text/plain": [
              "United States     552\n",
              "Brazil            466\n",
              "Germany           435\n",
              "Australia         410\n",
              "France            398\n",
              "China             393\n",
              "United Kingdom    356\n",
              "Japan             343\n",
              "Canada            317\n",
              "Spain             310\n",
              "Name: country, dtype: int64"
            ]
          },
          "metadata": {},
          "execution_count": 243
        }
      ]
    },
    {
      "cell_type": "code",
      "source": [
        "contagem_atletas_por_pais[:10].plot.bar()"
      ],
      "metadata": {
        "colab": {
          "base_uri": "https://localhost:8080/",
          "height": 369
        },
        "id": "YUUk38vRQWiZ",
        "outputId": "3edf8e0e-b416-47a4-974a-d25c10f427ec"
      },
      "execution_count": null,
      "outputs": [
        {
          "output_type": "execute_result",
          "data": {
            "text/plain": [
              "<matplotlib.axes._subplots.AxesSubplot at 0x7fcf85857760>"
            ]
          },
          "metadata": {},
          "execution_count": 244
        },
        {
          "output_type": "display_data",
          "data": {
            "text/plain": [
              "<Figure size 432x288 with 1 Axes>"
            ],
            "image/png": "[encoded data removed]"
          },
          "metadata": {
            "needs_background": "light"
          }
        }
      ]
    },
    {
      "cell_type": "markdown",
      "source": [
        "Agora vamos exibir a lista dos paies que mais ganharam medalhas"
      ],
      "metadata": {
        "id": "lNg_t1ObQNY7"
      }
    },
    {
      "cell_type": "markdown",
      "source": [
        "Pegando os paises que mais ganharam medalhas"
      ],
      "metadata": {
        "id": "-RsKt9N2Wwie"
      }
    },
    {
      "cell_type": "code",
      "source": [
        "mais_medalhas_pro_grafico=data[data['total_2012']>20]"
      ],
      "metadata": {
        "id": "Zc-voO0CaBXT"
      },
      "execution_count": null,
      "outputs": []
    },
    {
      "cell_type": "code",
      "source": [
        "lista_paise_mais_medalhas=list(data[data['total_2012']>20]['country'])"
      ],
      "metadata": {
        "id": "QeqM62z7WNVK"
      },
      "execution_count": null,
      "outputs": []
    },
    {
      "cell_type": "markdown",
      "source": [
        "Eliminando a repeticao"
      ],
      "metadata": {
        "id": "UrUbcigwWZfb"
      }
    },
    {
      "cell_type": "code",
      "source": [
        "lista_paise_mais_medalhas = list(dict.fromkeys(lista_paise_mais_medalhas))"
      ],
      "metadata": {
        "id": "-6opyAlzWZ4t"
      },
      "execution_count": null,
      "outputs": []
    },
    {
      "cell_type": "markdown",
      "source": [
        "Exibindo lista"
      ],
      "metadata": {
        "id": "5NLyfRtDWzpr"
      }
    },
    {
      "cell_type": "code",
      "source": [
        "lista_paise_mais_medalhas"
      ],
      "metadata": {
        "colab": {
          "base_uri": "https://localhost:8080/"
        },
        "id": "7fUHmxv2Wfp5",
        "outputId": "6faba5cf-aa6f-4656-debd-b959a28eb73f"
      },
      "execution_count": null,
      "outputs": [
        {
          "output_type": "execute_result",
          "data": {
            "text/plain": [
              "['Korea, South',\n",
              " 'Australia',\n",
              " 'United States',\n",
              " 'United Kingdom',\n",
              " 'Russia',\n",
              " 'Italy',\n",
              " 'France',\n",
              " 'Japan',\n",
              " 'China',\n",
              " 'Germany']"
            ]
          },
          "metadata": {},
          "execution_count": 248
        }
      ]
    },
    {
      "cell_type": "markdown",
      "source": [
        "Monstrando um grafico com esses paises e suas respectivas medalhas prara ver melhor"
      ],
      "metadata": {
        "id": "gelPsTjkGAGg"
      }
    },
    {
      "cell_type": "code",
      "source": [
        "medal=[30,35,104,65,69,28,35,38,91,44]\n",
        "country=['Korea, South','Australia','United States','United Kingdom','Russia', 'Italy', 'France', 'Japan','China', 'Germany']\n",
        "y_pos = np.arange(len(country))\n",
        "\n",
        "plt.figure(figsize=(16,9))\n",
        "# criando as barras\n",
        "plt.bar(y_pos, medal)\n",
        "\n",
        "# criando o nome dos paises\n",
        "plt.xticks(y_pos, country)\n",
        "\n",
        "# Show graphic\n",
        "plt.show()"
      ],
      "metadata": {
        "colab": {
          "base_uri": "https://localhost:8080/",
          "height": 540
        },
        "id": "l7xwZZB3-qqa",
        "outputId": "75b171ab-f797-4b1d-9811-67a0490ae956"
      },
      "execution_count": null,
      "outputs": [
        {
          "output_type": "display_data",
          "data": {
            "text/plain": [
              "<Figure size 1152x648 with 1 Axes>"
            ],
            "image/png": "[encoded data removed]"
          },
          "metadata": {
            "needs_background": "light"
          }
        }
      ]
    },
    {
      "cell_type": "markdown",
      "source": [
        "Com isso e possivel ver que praticamente todos os paises que mais mandaram altetas estao entre os paises que mais ganharam medalhas, com excessao do Brasil, Canada e Espanha. Assim e possivel ver a existencia de uma forte relaca entre os paises que mais mandam atletas, com os paises que mais ganham medalhas. Visto que um pais mandando muitos atletas significa que existem mais pessoas representando ele e maiores sao sua chance de ganhar, e tambem que ele esta investindo mais no esporte, ja que pra mandar mais atletas ele precisa de mais investimento nos proprios atletas, dando estrutura pra eles treinarem e se desenvolverem como tambem o custo de mandar esses atletas para as olimpiadas."
      ],
      "metadata": {
        "id": "7K8GGOYOVqu-"
      }
    },
    {
      "cell_type": "markdown",
      "source": [
        "Alem disso, e possivel dar um destaque para os Estados Unidos, vendo que ele possui um numero de medalhas muito alto, quando comprado com os outros. O pais se encontra tando entre os paises com o maior PIB quanto entre os paises que mais mandam atletas, mostrando assim que eles possuem dinheiro para investir e que estao investindo no esporte, assim justificando seus resultados superiores"
      ],
      "metadata": {
        "id": "cY5XeYGq_Tl1"
      }
    },
    {
      "cell_type": "markdown",
      "source": [
        "##Terceira hipotese"
      ],
      "metadata": {
        "id": "G99XO_FDaDHo"
      }
    },
    {
      "cell_type": "markdown",
      "source": [
        "## Medalhistas de ouro com maiores **Alturas**, tendem a ganhar mais medalhas de ouro em determinados sports, visto que terão mais amplitude pela maior altura, para a analise os atletas de menores alturas foram separados com base no 1 quartil da coluna altura, ou seja 25% dos atletas com menores pesos, além disso, para separar os atletas com maiores altura foi ultilizado o 4 quartil da coluna altura, ou seja, 25% dos atletas com maiores alturas**."
      ],
      "metadata": {
        "id": "tRv1e41paG2S"
      }
    },
    {
      "cell_type": "markdown",
      "source": [
        "## a Hipotese foi dividida em:\n",
        "\n",
        "1. Criar um novo dataframe com as informaçôes dos atletas que ganharam medalha de ouro\n",
        "2. visualização das medalhas por altura com um gráfico\n",
        "3. Utilização do 1 e 4 quartil da coluna altura, para servir respectivamente como menores alturas e maiores alturas\n",
        "4. Separação dos atletas medalhistas de ouro com a altura do 1 quartil os primeiros 25% dos atletas com menores atletas para um novo dataframe\n",
        "5. Separação dos atletas medalhistas de ouro com a altura do 4 quartil os primeiros 25% dos maiores atletas para um novo dataframe\n",
        "6. Visualização dos resultados por meio de 2 gráficos um de cada dataframe dos pontos anteriores, 5 e 6 com as respectivas variaveis x = tipo de sport e y = altura\n",
        "7. comprovação ou não da hipótese e Comparação dos resultados estatisticamente com a visualização dos gráficos e porcentagens\n",
        "\n"
      ],
      "metadata": {
        "id": "YM-uOixRaMWc"
      }
    },
    {
      "cell_type": "code",
      "source": [
        "data_hipotese = pd.read_csv(\"Dados_A3_Analise.csv\") # Lendo u arquivo csv, transformando-o em dataframe e guardando na variavel data_hipotese"
      ],
      "metadata": {
        "id": "Ug3052cLarI8"
      },
      "execution_count": null,
      "outputs": []
    },
    {
      "cell_type": "code",
      "source": [
        "medalhas_ouro = data_hipotese[(data_hipotese.gold >= 1)] # pegando todas as colunas com o numero de medalhas de ouro maior ou igual a 1\n",
        "medalhas_ouro.head()"
      ],
      "metadata": {
        "colab": {
          "base_uri": "https://localhost:8080/",
          "height": 250
        },
        "id": "oXEuapVtcPGX",
        "outputId": "450092ae-fa4f-4a9a-afc1-932fe7314469"
      },
      "execution_count": null,
      "outputs": [
        {
          "output_type": "execute_result",
          "data": {
            "text/plain": [
              "                  name     sex  height  weight      sport  gold  silver  \\\n",
              "78      Carolina Marin  female    1.72    65.0  badminton     1       0   \n",
              "85       Cristian Toro    male    1.88    90.0      canoe     1       0   \n",
              "194  Maialen Chourraut  female    1.61    55.0      canoe     1       0   \n",
              "198         Marc Lopez    male    1.74    70.0     tennis     1       0   \n",
              "204        Marcus Walz    male    1.84    82.0      canoe     1       0   \n",
              "\n",
              "     bronze country  population  gdp_per_capita  gold_2012  silver_2012  \\\n",
              "78        0   Spain  46418269.0    25831.582305          4           10   \n",
              "85        0   Spain  46418269.0    25831.582305          4           10   \n",
              "194       0   Spain  46418269.0    25831.582305          4           10   \n",
              "198       0   Spain  46418269.0    25831.582305          4           10   \n",
              "204       0   Spain  46418269.0    25831.582305          4           10   \n",
              "\n",
              "     bronze_2012  total_2012  \n",
              "78             5          19  \n",
              "85             5          19  \n",
              "194            5          19  \n",
              "198            5          19  \n",
              "204            5          19  "
            ],
            "text/html": [
              "\n",
              "  <div id=\"df-02d11d30-57e1-4e9e-a049-821e9cdda542\">\n",
              "    <div class=\"colab-df-container\">\n",
              "      <div>\n",
              "<style scoped>\n",
              "    .dataframe tbody tr th:only-of-type {\n",
              "        vertical-align: middle;\n",
              "    }\n",
              "\n",
              "    .dataframe tbody tr th {\n",
              "        vertical-align: top;\n",
              "    }\n",
              "\n",
              "    .dataframe thead th {\n",
              "        text-align: right;\n",
              "    }\n",
              "</style>\n",
              "<table border=\"1\" class=\"dataframe\">\n",
              "  <thead>\n",
              "    <tr style=\"text-align: right;\">\n",
              "      <th></th>\n",
              "      <th>name</th>\n",
              "      <th>sex</th>\n",
              "      <th>height</th>\n",
              "      <th>weight</th>\n",
              "      <th>sport</th>\n",
              "      <th>gold</th>\n",
              "      <th>silver</th>\n",
              "      <th>bronze</th>\n",
              "      <th>country</th>\n",
              "      <th>population</th>\n",
              "      <th>gdp_per_capita</th>\n",
              "      <th>gold_2012</th>\n",
              "      <th>silver_2012</th>\n",
              "      <th>bronze_2012</th>\n",
              "      <th>total_2012</th>\n",
              "    </tr>\n",
              "  </thead>\n",
              "  <tbody>\n",
              "    <tr>\n",
              "      <th>78</th>\n",
              "      <td>Carolina Marin</td>\n",
              "      <td>female</td>\n",
              "      <td>1.72</td>\n",
              "      <td>65.0</td>\n",
              "      <td>badminton</td>\n",
              "      <td>1</td>\n",
              "      <td>0</td>\n",
              "      <td>0</td>\n",
              "      <td>Spain</td>\n",
              "      <td>46418269.0</td>\n",
              "      <td>25831.582305</td>\n",
              "      <td>4</td>\n",
              "      <td>10</td>\n",
              "      <td>5</td>\n",
              "      <td>19</td>\n",
              "    </tr>\n",
              "    <tr>\n",
              "      <th>85</th>\n",
              "      <td>Cristian Toro</td>\n",
              "      <td>male</td>\n",
              "      <td>1.88</td>\n",
              "      <td>90.0</td>\n",
              "      <td>canoe</td>\n",
              "      <td>1</td>\n",
              "      <td>0</td>\n",
              "      <td>0</td>\n",
              "      <td>Spain</td>\n",
              "      <td>46418269.0</td>\n",
              "      <td>25831.582305</td>\n",
              "      <td>4</td>\n",
              "      <td>10</td>\n",
              "      <td>5</td>\n",
              "      <td>19</td>\n",
              "    </tr>\n",
              "    <tr>\n",
              "      <th>194</th>\n",
              "      <td>Maialen Chourraut</td>\n",
              "      <td>female</td>\n",
              "      <td>1.61</td>\n",
              "      <td>55.0</td>\n",
              "      <td>canoe</td>\n",
              "      <td>1</td>\n",
              "      <td>0</td>\n",
              "      <td>0</td>\n",
              "      <td>Spain</td>\n",
              "      <td>46418269.0</td>\n",
              "      <td>25831.582305</td>\n",
              "      <td>4</td>\n",
              "      <td>10</td>\n",
              "      <td>5</td>\n",
              "      <td>19</td>\n",
              "    </tr>\n",
              "    <tr>\n",
              "      <th>198</th>\n",
              "      <td>Marc Lopez</td>\n",
              "      <td>male</td>\n",
              "      <td>1.74</td>\n",
              "      <td>70.0</td>\n",
              "      <td>tennis</td>\n",
              "      <td>1</td>\n",
              "      <td>0</td>\n",
              "      <td>0</td>\n",
              "      <td>Spain</td>\n",
              "      <td>46418269.0</td>\n",
              "      <td>25831.582305</td>\n",
              "      <td>4</td>\n",
              "      <td>10</td>\n",
              "      <td>5</td>\n",
              "      <td>19</td>\n",
              "    </tr>\n",
              "    <tr>\n",
              "      <th>204</th>\n",
              "      <td>Marcus Walz</td>\n",
              "      <td>male</td>\n",
              "      <td>1.84</td>\n",
              "      <td>82.0</td>\n",
              "      <td>canoe</td>\n",
              "      <td>1</td>\n",
              "      <td>0</td>\n",
              "      <td>0</td>\n",
              "      <td>Spain</td>\n",
              "      <td>46418269.0</td>\n",
              "      <td>25831.582305</td>\n",
              "      <td>4</td>\n",
              "      <td>10</td>\n",
              "      <td>5</td>\n",
              "      <td>19</td>\n",
              "    </tr>\n",
              "  </tbody>\n",
              "</table>\n",
              "</div>\n",
              "      <button class=\"colab-df-convert\" onclick=\"convertToInteractive('df-02d11d30-57e1-4e9e-a049-821e9cdda542')\"\n",
              "              title=\"Convert this dataframe to an interactive table.\"\n",
              "              style=\"display:none;\">\n",
              "        \n",
              "  <svg xmlns=\"http://www.w3.org/2000/svg\" height=\"24px\"viewBox=\"0 0 24 24\"\n",
              "       width=\"24px\">\n",
              "    <path d=\"M0 0h24v24H0V0z\" fill=\"none\"/>\n",
              "    <path d=\"M18.56 5.44l.94 2.06.94-2.06 2.06-.94-2.06-.94-.94-2.06-.94 2.06-2.06.94zm-11 1L8.5 8.5l.94-2.06 2.06-.94-2.06-.94L8.5 2.5l-.94 2.06-2.06.94zm10 10l.94 2.06.94-2.06 2.06-.94-2.06-.94-.94-2.06-.94 2.06-2.06.94z\"/><path d=\"M17.41 7.96l-1.37-1.37c-.4-.4-.92-.59-1.43-.59-.52 0-1.04.2-1.43.59L10.3 9.45l-7.72 7.72c-.78.78-.78 2.05 0 2.83L4 21.41c.39.39.9.59 1.41.59.51 0 1.02-.2 1.41-.59l7.78-7.78 2.81-2.81c.8-.78.8-2.07 0-2.86zM5.41 20L4 18.59l7.72-7.72 1.47 1.35L5.41 20z\"/>\n",
              "  </svg>\n",
              "      </button>\n",
              "      \n",
              "  <style>\n",
              "    .colab-df-container {\n",
              "      display:flex;\n",
              "      flex-wrap:wrap;\n",
              "      gap: 12px;\n",
              "    }\n",
              "\n",
              "    .colab-df-convert {\n",
              "      background-color: #E8F0FE;\n",
              "      border: none;\n",
              "      border-radius: 50%;\n",
              "      cursor: pointer;\n",
              "      display: none;\n",
              "      fill: #1967D2;\n",
              "      height: 32px;\n",
              "      padding: 0 0 0 0;\n",
              "      width: 32px;\n",
              "    }\n",
              "\n",
              "    .colab-df-convert:hover {\n",
              "      background-color: #E2EBFA;\n",
              "      box-shadow: 0px 1px 2px rgba(60, 64, 67, 0.3), 0px 1px 3px 1px rgba(60, 64, 67, 0.15);\n",
              "      fill: #174EA6;\n",
              "    }\n",
              "\n",
              "    [theme=dark] .colab-df-convert {\n",
              "      background-color: #3B4455;\n",
              "      fill: #D2E3FC;\n",
              "    }\n",
              "\n",
              "    [theme=dark] .colab-df-convert:hover {\n",
              "      background-color: #434B5C;\n",
              "      box-shadow: 0px 1px 3px 1px rgba(0, 0, 0, 0.15);\n",
              "      filter: drop-shadow(0px 1px 2px rgba(0, 0, 0, 0.3));\n",
              "      fill: #FFFFFF;\n",
              "    }\n",
              "  </style>\n",
              "\n",
              "      <script>\n",
              "        const buttonEl =\n",
              "          document.querySelector('#df-02d11d30-57e1-4e9e-a049-821e9cdda542 button.colab-df-convert');\n",
              "        buttonEl.style.display =\n",
              "          google.colab.kernel.accessAllowed ? 'block' : 'none';\n",
              "\n",
              "        async function convertToInteractive(key) {\n",
              "          const element = document.querySelector('#df-02d11d30-57e1-4e9e-a049-821e9cdda542');\n",
              "          const dataTable =\n",
              "            await google.colab.kernel.invokeFunction('convertToInteractive',\n",
              "                                                     [key], {});\n",
              "          if (!dataTable) return;\n",
              "\n",
              "          const docLinkHtml = 'Like what you see? Visit the ' +\n",
              "            '<a target=\"_blank\" href=https://colab.research.google.com/notebooks/data_table.ipynb>data table notebook</a>'\n",
              "            + ' to learn more about interactive tables.';\n",
              "          element.innerHTML = '';\n",
              "          dataTable['output_type'] = 'display_data';\n",
              "          await google.colab.output.renderOutput(dataTable, element);\n",
              "          const docLink = document.createElement('div');\n",
              "          docLink.innerHTML = docLinkHtml;\n",
              "          element.appendChild(docLink);\n",
              "        }\n",
              "      </script>\n",
              "    </div>\n",
              "  </div>\n",
              "  "
            ]
          },
          "metadata": {},
          "execution_count": 251
        }
      ]
    },
    {
      "cell_type": "markdown",
      "source": [
        "Plotando grafico das medalhas pela altura"
      ],
      "metadata": {
        "id": "V4DzoKlmvmjd"
      }
    },
    {
      "cell_type": "code",
      "source": [
        "plt.figure(figsize=(31, 10))\n",
        "plt.tight_layout()\n",
        "sns.countplot(medalhas_ouro['height'])\n",
        "plt.title('Distribuição das medalhas de outo por altura')"
      ],
      "metadata": {
        "colab": {
          "base_uri": "https://localhost:8080/",
          "height": 516
        },
        "id": "Gmh-xNKHcTYf",
        "outputId": "ae1c83c4-9fd1-485a-b596-3de314faf90a"
      },
      "execution_count": null,
      "outputs": [
        {
          "output_type": "stream",
          "name": "stderr",
          "text": [
            "/usr/local/lib/python3.8/dist-packages/seaborn/_decorators.py:36: FutureWarning: Pass the following variable as a keyword arg: x. From version 0.12, the only valid positional argument will be `data`, and passing other arguments without an explicit keyword will result in an error or misinterpretation.\n",
            "  warnings.warn(\n"
          ]
        },
        {
          "output_type": "execute_result",
          "data": {
            "text/plain": [
              "Text(0.5, 1.0, 'Distribuição das medalhas de outo por altura')"
            ]
          },
          "metadata": {},
          "execution_count": 252
        },
        {
          "output_type": "display_data",
          "data": {
            "text/plain": [
              "<Figure size 2232x720 with 1 Axes>"
            ],
            "image/png": "[encoded data removed]"
          },
          "metadata": {
            "needs_background": "light"
          }
        }
      ]
    },
    {
      "cell_type": "code",
      "source": [
        "medalhas_ouro['height'].describe() # utlizando o método describe para pegar os valores do 1 e 4 quartil da coluna da altura, nos quais serão utilizados repectivamente como base para menores alturas e maiores alturas dos atletas"
      ],
      "metadata": {
        "colab": {
          "base_uri": "https://localhost:8080/"
        },
        "id": "60GznHfqcW5L",
        "outputId": "8ff8c067-d465-4a84-a0db-9003bc8c73b7"
      },
      "execution_count": null,
      "outputs": [
        {
          "output_type": "execute_result",
          "data": {
            "text/plain": [
              "count    582.000000\n",
              "mean       1.790670\n",
              "std        0.121736\n",
              "min        1.450000\n",
              "25%        1.700000\n",
              "50%        1.780000\n",
              "75%        1.880000\n",
              "max        2.210000\n",
              "Name: height, dtype: float64"
            ]
          },
          "metadata": {},
          "execution_count": 253
        }
      ]
    },
    {
      "cell_type": "code",
      "source": [
        "medalhas_maior_altura = medalhas_ouro['sport'][medalhas_ouro['height'] >= 1.880000] # isolando os medalhistas de ouro com a altura do 4 quartil e colocando em um dataframe para uma análise mais aprofundada"
      ],
      "metadata": {
        "id": "5NJtVSZpcY7z"
      },
      "execution_count": null,
      "outputs": []
    },
    {
      "cell_type": "code",
      "source": [
        "plt.figure(figsize=(31, 10)) # analisando mais profundamente plotando um gráfico, foi possível observar a quantidade de medalhas ganhas por sport dos atletas de maiores alturas\n",
        "plt.tight_layout()\n",
        "axb = sns.countplot(medalhas_maior_altura)\n",
        "plt.title('Medalhas de ouro para Atletas com altura maior ou igual a 1.880000')\n",
        "for p in axb.patches:\n",
        "  height = p.get_height()\n",
        "  axb.text(p.get_x()+p.get_width()/2.,height + 0,'{:1.2f}'.format((height)),ha='center')"
      ],
      "metadata": {
        "colab": {
          "base_uri": "https://localhost:8080/",
          "height": 498
        },
        "id": "-W0zRoXlccz7",
        "outputId": "2f18aa76-c3d0-4ea9-ff46-d2ef6507f453"
      },
      "execution_count": null,
      "outputs": [
        {
          "output_type": "stream",
          "name": "stderr",
          "text": [
            "/usr/local/lib/python3.8/dist-packages/seaborn/_decorators.py:36: FutureWarning: Pass the following variable as a keyword arg: x. From version 0.12, the only valid positional argument will be `data`, and passing other arguments without an explicit keyword will result in an error or misinterpretation.\n",
            "  warnings.warn(\n"
          ]
        },
        {
          "output_type": "display_data",
          "data": {
            "text/plain": [
              "<Figure size 2232x720 with 1 Axes>"
            ],
            "image/png": "[encoded data removed]"
          },
          "metadata": {
            "needs_background": "light"
          }
        }
      ]
    },
    {
      "cell_type": "markdown",
      "source": [
        "Foi possível observar que os atletas com as maiores alturas se sairam bem no rowing(remo), aquatics, basketball, handball e volleyball."
      ],
      "metadata": {
        "id": "YqGQ-I00cf8A"
      }
    },
    {
      "cell_type": "code",
      "source": [
        "medalhas_menor_altura= medalhas_ouro['sport'][medalhas_ouro['height'] <= 1.700000] # isolando os medalhistas de ouro com a altura do 1 quartil e colocando em um dataframe para uma análise mais aprofundada"
      ],
      "metadata": {
        "id": "nTFil8DlclO6"
      },
      "execution_count": null,
      "outputs": []
    },
    {
      "cell_type": "code",
      "source": [
        "plt.figure(figsize=(45, 10)) # analisando mais profundamente plotando um gráfico, foi possível observar uma maior performace no sport aquatico dos atletas nos quais têm mais de 1.90 de altura, onde também foi possívei provar pela quantidade de medalhas de ouro ganhas que os maiores atletas tem maiores chances de vitória\n",
        "plt.tight_layout()\n",
        "ax = sns.countplot(medalhas_menor_altura)\n",
        "for p in ax.patches:\n",
        "  height = p.get_height()\n",
        "  ax.text(p.get_x()+p.get_width()/2.,height + 0,'{:1.2f}'.format((height)),ha='center')"
      ],
      "metadata": {
        "colab": {
          "base_uri": "https://localhost:8080/",
          "height": 361
        },
        "id": "vLkYEcTNcn-f",
        "outputId": "8a8d5872-d633-4116-b1a7-25222823d33b"
      },
      "execution_count": null,
      "outputs": [
        {
          "output_type": "stream",
          "name": "stderr",
          "text": [
            "/usr/local/lib/python3.8/dist-packages/seaborn/_decorators.py:36: FutureWarning: Pass the following variable as a keyword arg: x. From version 0.12, the only valid positional argument will be `data`, and passing other arguments without an explicit keyword will result in an error or misinterpretation.\n",
            "  warnings.warn(\n"
          ]
        },
        {
          "output_type": "display_data",
          "data": {
            "text/plain": [
              "<Figure size 3240x720 with 1 Axes>"
            ],
            "image/png": "[encoded data removed]"
          },
          "metadata": {
            "needs_background": "light"
          }
        }
      ]
    },
    {
      "cell_type": "markdown",
      "source": [
        "foi possível observar que dentre os sports nos quais os medalhistas com maiores alturas se sairam bem, os de menores alturas se saíram mal, são eles no handball saiu de 13 medalhas ganhas para 3, nos sports aquaticos onde saiu de 27 medalhas para 16, no rowing saiu de 23 medalhas ganhas para 1 basketball de 16 medalhas ganhas para 0 e volleybal de 19 mealhas ganhas para 0.\n",
        "\n",
        "Obs: No gráfico dos atletas de menores alturas não foram exibidos os gráficos do volleyball e basketball, pois o gráfico só é exibido a partir de 1 medalha, logo como os atletas de menores altura não obtiveram medalhas de ouro nesses dois sports, portanto, os gráficos não foram exibidos.\n",
        "\n"
      ],
      "metadata": {
        "id": "JpkThj89cqLy"
      }
    },
    {
      "cell_type": "code",
      "source": [
        "medalhas_ouro[medalhas_ouro['gold']==1]['sport'].value_counts().head(15) #verificando todas as medalhas ganhas em todos os quartis para tirar a porcentagem e comparar os atletas"
      ],
      "metadata": {
        "colab": {
          "base_uri": "https://localhost:8080/"
        },
        "id": "pENXocR8ctcr",
        "outputId": "d39f90f0-4803-498b-e7cf-e2716bad1d96"
      },
      "execution_count": null,
      "outputs": [
        {
          "output_type": "execute_result",
          "data": {
            "text/plain": [
              "aquatics         71\n",
              "athletics        53\n",
              "rowing           48\n",
              "football         36\n",
              "hockey           34\n",
              "handball         29\n",
              "volleyball       28\n",
              "rugby sevens     25\n",
              "basketball       24\n",
              "gymnastics       22\n",
              "cycling          22\n",
              "wrestling        17\n",
              "canoe            16\n",
              "weightlifting    15\n",
              "sailing          15\n",
              "Name: sport, dtype: int64"
            ]
          },
          "metadata": {},
          "execution_count": 258
        }
      ]
    },
    {
      "cell_type": "markdown",
      "source": [
        "Análise das porcentagens das medalhas de ouro por sport e comparando o desempenho dos maiores atletas com os menores atletas.\n",
        "\n",
        "1. total de medalhas de ouro no sport **aquatcs**: 71, medalhas ganhas nesse sport pelos atletas mais altos = 27 = 38,03%,  medalhas ganhas nesse sport pelos atletas mais baixos = 16 = 22,54%\n",
        "\n",
        "2. total de medalhas de ouro no sport **rowing**: 48, medalhas ganhas nesse sport pelos atletas mais altos = 23 = 47,92%,  medalhas ganhas nesse sport pelos atletas mais baixos = 1 = 2,08%\n",
        "\n",
        "3. total de medalhas de ouro no sport **handball**: 29, medalhas ganhas nesse sport pelos atletas mais altos = 13 = 44,83%,  medalhas ganhas nesse sport pelos atletas mais baixos = 3 = 2,08%\n",
        "\n",
        "\n",
        "4. total de medalhas de ouro no sport **volleybal**: 28, medalhas ganhas nesse sport pelos atletas mais altos = 19 = 67,86%,  medalhas ganhas nesse sport pelos atletas mais baixos = 0 = 0,00%\n",
        "\n",
        "\n",
        "5. total de medalhas de ouro no sport **basketball**: 24, medalhas ganhas nesse sport pelos atletas mais altos = 16 = 66,67%,  medalhas ganhas nesse sport pelos atletas mais baixos = 0 = 0,00%\n",
        "\n"
      ],
      "metadata": {
        "id": "Bffs3_jecyea"
      }
    },
    {
      "cell_type": "markdown",
      "source": [
        "## **Conclusão hipótese 3**"
      ],
      "metadata": {
        "id": "O7NK1B4pc3Pm"
      }
    },
    {
      "cell_type": "markdown",
      "source": [
        "Diante do exposto acima, Foi possível comprovar visualmente por meio dos gráficos demonstrados acima e pela porcentagem que os Sports em que os maiores atletas tiveram mais vantagens foi o volleybal e o basketball, e que os atletas com a média altura ou seja, atletas entre o 1 e 4 quartil, obtiveram um desempenho maior no rowing, aquatics e handball, além disso, os atletas com menores alturas tiveram péssimos desempenhos nos 5 sports citados acima, segundo a porcentagem, comprovando então assim, uma menor vantagem dos menores atletas comparados aos atletas mais altos, segundo o cálculo da porcentagem."
      ],
      "metadata": {
        "id": "CfDoElMjc6cC"
      }
    },
    {
      "cell_type": "markdown",
      "source": [
        "## Quarta hipotese"
      ],
      "metadata": {
        "id": "VEdkYo8BsdbF"
      }
    },
    {
      "cell_type": "markdown",
      "source": [
        "## Medalhistas de ouro com **menores** **Pesos**, tendem a ganhar mais medalhas de ouro em determinados sports, visto que terão mais velocidade pelo menor peso, para a análise, os atletas de **menores pesos** foram separados com base no 1 quartil da coluna peso, ou seja 25% dos atletas com **menores pesos**, além disso, para separar os atletas com **maiores pesos** foi ultilizado o 4 quartil da coluna peso, ou seja, 25% dos atletas com maiores pesos**."
      ],
      "metadata": {
        "id": "wn3hz198siYA"
      }
    },
    {
      "cell_type": "code",
      "source": [
        "medalhas_ouro['weight'].describe()"
      ],
      "metadata": {
        "colab": {
          "base_uri": "https://localhost:8080/"
        },
        "id": "REs2BSjTslBQ",
        "outputId": "4dca7b59-80ca-4740-8ed6-f777dc27d927"
      },
      "execution_count": null,
      "outputs": [
        {
          "output_type": "execute_result",
          "data": {
            "text/plain": [
              "count    582.000000\n",
              "mean      74.508591\n",
              "std       16.421694\n",
              "min       40.000000\n",
              "25%       63.000000\n",
              "50%       73.000000\n",
              "75%       84.000000\n",
              "max      157.000000\n",
              "Name: weight, dtype: float64"
            ]
          },
          "metadata": {},
          "execution_count": 259
        }
      ]
    },
    {
      "cell_type": "code",
      "source": [
        "peso_menor_medals = medalhas_ouro['sport'][medalhas_ouro['weight'] <=63.000000] #isolando os medalhistas de ouro com o peso do 1 quartil"
      ],
      "metadata": {
        "id": "oIDniuCEsm5f"
      },
      "execution_count": null,
      "outputs": []
    },
    {
      "cell_type": "code",
      "source": [
        "peso_maior_medals = medalhas_ouro['sport'][medalhas_ouro['weight'] >= 84.000000] #isolando os medalhistas de ouro com o peso do 4 quartil"
      ],
      "metadata": {
        "id": "TQKQBEn9sond"
      },
      "execution_count": null,
      "outputs": []
    },
    {
      "cell_type": "code",
      "source": [
        "plt.figure(figsize=(30, 10))\n",
        "plt.tight_layout()\n",
        "axc = sns.countplot(peso_maior_medals)\n",
        "plt.title('Medalhas de ouro para Athletas com mais de 84kg de peso')\n",
        "for p in axc.patches:\n",
        "  height = p.get_height()\n",
        "  axc.text(p.get_x()+p.get_width()/2.,height + 0,'{:1.2f}'.format((height)),ha='center')"
      ],
      "metadata": {
        "colab": {
          "base_uri": "https://localhost:8080/",
          "height": 512
        },
        "id": "NGpa8GpcsqyV",
        "outputId": "c281b7df-beaf-4100-b78f-0f5dc0106802"
      },
      "execution_count": null,
      "outputs": [
        {
          "output_type": "stream",
          "name": "stderr",
          "text": [
            "/usr/local/lib/python3.8/dist-packages/seaborn/_decorators.py:36: FutureWarning: Pass the following variable as a keyword arg: x. From version 0.12, the only valid positional argument will be `data`, and passing other arguments without an explicit keyword will result in an error or misinterpretation.\n",
            "  warnings.warn(\n"
          ]
        },
        {
          "output_type": "display_data",
          "data": {
            "text/plain": [
              "<Figure size 2160x720 with 1 Axes>"
            ],
            "image/png": "[encoded data removed]"
          },
          "metadata": {
            "needs_background": "light"
          }
        }
      ]
    },
    {
      "cell_type": "markdown",
      "source": [
        "É possível observar que os atletas com os maiores pesos se destacaram no rowing e aquatics."
      ],
      "metadata": {
        "id": "ZpP_gtjpstI9"
      }
    },
    {
      "cell_type": "code",
      "source": [
        "plt.figure(figsize=(45, 10))\n",
        "plt.tight_layout()\n",
        "axgg = sns.countplot(peso_menor_medals)\n",
        "plt.title('Medalhas de ouro para Athletas com menos de 64kg de peso')\n",
        "for p in axgg.patches:\n",
        "  height = p.get_height()\n",
        "  axgg.text(p.get_x()+p.get_width()/2.,height + 0,'{:1.2f}'.format((height)),ha='center')"
      ],
      "metadata": {
        "colab": {
          "base_uri": "https://localhost:8080/",
          "height": 369
        },
        "id": "WGfIdOG8su0_",
        "outputId": "c9e9f690-39c9-4f39-b72f-ffb4017b48b3"
      },
      "execution_count": null,
      "outputs": [
        {
          "output_type": "stream",
          "name": "stderr",
          "text": [
            "/usr/local/lib/python3.8/dist-packages/seaborn/_decorators.py:36: FutureWarning: Pass the following variable as a keyword arg: x. From version 0.12, the only valid positional argument will be `data`, and passing other arguments without an explicit keyword will result in an error or misinterpretation.\n",
            "  warnings.warn(\n"
          ]
        },
        {
          "output_type": "display_data",
          "data": {
            "text/plain": [
              "<Figure size 3240x720 with 1 Axes>"
            ],
            "image/png": "[encoded data removed]"
          },
          "metadata": {
            "needs_background": "light"
          }
        }
      ]
    },
    {
      "cell_type": "markdown",
      "source": [
        "É possível observar comparando os dois gráficos acima que os atletas de menores pesos se destacaram em relação aos atletas com maiores pesos, no futebol e na ginástica, e em contra partida foram bem ruins comparado aos atletas de pesos maiores no rowing, handball, volleyball e rugby sevens."
      ],
      "metadata": {
        "id": "XlpsPvIjswxV"
      }
    },
    {
      "cell_type": "code",
      "source": [
        "medalhas_ouro[medalhas_ouro['gold']==1]['sport'].value_counts() # obter a quantidade total de medalha de ouro por sport"
      ],
      "metadata": {
        "colab": {
          "base_uri": "https://localhost:8080/"
        },
        "id": "0UkjCpvFsyNn",
        "outputId": "dffeccb8-fe5b-4677-dc1d-2a15b30d19e0"
      },
      "execution_count": null,
      "outputs": [
        {
          "output_type": "execute_result",
          "data": {
            "text/plain": [
              "aquatics             71\n",
              "athletics            53\n",
              "rowing               48\n",
              "football             36\n",
              "hockey               34\n",
              "handball             29\n",
              "volleyball           28\n",
              "rugby sevens         25\n",
              "basketball           24\n",
              "gymnastics           22\n",
              "cycling              22\n",
              "wrestling            17\n",
              "canoe                16\n",
              "weightlifting        15\n",
              "sailing              15\n",
              "equestrian           15\n",
              "fencing              15\n",
              "judo                 13\n",
              "shooting             12\n",
              "badminton             8\n",
              "tennis                8\n",
              "taekwondo             7\n",
              "archery               4\n",
              "table tennis          4\n",
              "triathlon             2\n",
              "modern pentathlon     2\n",
              "golf                  2\n",
              "Name: sport, dtype: int64"
            ]
          },
          "metadata": {},
          "execution_count": 264
        }
      ]
    },
    {
      "cell_type": "markdown",
      "source": [
        "Análise das porcentagens das medalhas de ouro por sport e comparando o desempenho dos atletas com maiores pesos e os atletas de menores pesos.\n",
        "\n",
        "total de medalhas de ouro no sport **futebol**: 36, medalhas ganhas nesse sport pelos atletas com mais peso = 1 = 2,78%, medalhas ganhas nesse sport pelos atletas com menos peso = 12 = 33,33%\n",
        "\n",
        "total de medalhas de ouro no sport **ginástica**: 22, medalhas ganhas nesse sport pelos atletas com mais peso = 0 = 00,00%, medalhas ganhas nesse sport pelos atletas com menos peso = 22 = 100,00%\n",
        "\n",
        "total de medalhas de ouro no sport **handball**: 29, medalhas ganhas nesse sport pelos atletas com mais peso = 14 = 48,28%, medalhas ganhas nesse sport pelos atletas com menos peso = 4 = 13,79%\n",
        "\n",
        "total de medalhas de ouro no sport **volleybal**: 28, medalhas ganhas nesse sport pelos atletas mais peso = 9 = 32,14%, medalhas ganhas nesse sport pelos atletas com menos peso = 0 = 0,00%\n",
        "\n",
        "total de medalhas de ouro no sport **rowing**: 48, medalhas ganhas nesse sport pelos atletas com mais peso = 22 = 45,83%, medalhas ganhas nesse sport pelos atletas com menos peso = 4 = 8,33%\n",
        "\n",
        "\n",
        "total de medalhas de ouro no sport **rugby sevens**: 25, medalhas ganhas nesse sport pelos atletas com mais peso = 11 = 44,00%, medalhas ganhas nesse sport pelos atletas com menos peso = 1 = 4,00%"
      ],
      "metadata": {
        "id": "DatQDCKrs0gP"
      }
    },
    {
      "cell_type": "markdown",
      "source": [
        "## **Conclusão hipótese 2**"
      ],
      "metadata": {
        "id": "4R1foIxLs40H"
      }
    },
    {
      "cell_type": "markdown",
      "source": [
        "Diante do exposto foi possível comprovar por meio dos gráficos e porcentagens que os atletas de menos peso se sairam melhor que os atletas de menores pesos no futebol e na ginástica, destaque na ginástica onde os atletas de menores peso, ganharam 100% das medalhas. Além disso, os atletas de maiores pesos se sairam bem no rowing, rugby e volleybal, destaque para o sport rowing(Remo) no qual o peso supostamente se mostrou sendo um maior índice de massa magra(músculos) dos ganhadores e não somente gordura, devido a força necessária e exercida pelos músculos para a prática desse sport. Além disso, os atletas de média altura os 25% de atletas que estão localizados entre o 1 e o 3 quartil da coluna peso, se destacaram com as maiores porcentagens de ouros ganhos nos seguintes sports: volleybal, futebol, e rugby sevens. Por fim, A hipotesse dos Medalhistas de ouro com menores Pesos, tenderem a ganhar mais medalhas de ouro em determinados sports por serem mais leves, se desconstroi na modadilade do remo, onde o peso pode significar mais força devido uma suposta alta no índice de massa magra, e essa hipotese se confirma no sport da ginástica, ondeos atletas mais leves ganharam 100% das medalhas disputadas."
      ],
      "metadata": {
        "id": "oXtfL_Sws7A_"
      }
    }
  ]
}